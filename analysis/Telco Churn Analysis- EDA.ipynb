{
 "cells": [
  {
   "cell_type": "code",
   "execution_count": 52,
   "id": "3aa5be2b",
   "metadata": {
    "ExecuteTime": {
     "end_time": "2023-10-31T15:39:02.163434Z",
     "start_time": "2023-10-31T15:39:02.014997Z"
    }
   },
   "outputs": [],
   "source": [
    "import datetime as dt\n",
    "import numpy as np\n",
    "import pandas as pd\n",
    "import matplotlib.pyplot as plt\n",
    "import seaborn as sns\n",
    "from matplotlib.ticker import PercentFormatter\n",
    "# from fim import arules\n",
    "from operator import attrgetter\n",
    "import matplotlib.colors as mcolors\n",
    "import matplotlib.ticker as tkr\n",
    "from scipy import stats\n",
    "from sklearn.preprocessing import LabelEncoder\n",
    "\n",
    "\n",
    "import warnings\n",
    "warnings.filterwarnings(\"ignore\")"
   ]
  },
  {
   "cell_type": "markdown",
   "id": "07b04c5d",
   "metadata": {},
   "source": [
    "# In this notebook we are going to explore the characteristics of the customers and how they affect their churn rate. The final goal is to identify pottential patterns that are more likely to cause churning, or to learn to identify customers who are included in that 'danger' group, so that we can finally target those customers in an effective way to prevent them leaving the company and maintain a low churn rate."
   ]
  },
  {
   "cell_type": "code",
   "execution_count": 7,
   "id": "0a08285a",
   "metadata": {
    "ExecuteTime": {
     "end_time": "2023-10-31T15:26:37.336908Z",
     "start_time": "2023-10-31T15:26:37.308698Z"
    }
   },
   "outputs": [],
   "source": [
    "data = pd.read_csv(\"../data/data_cleaned.csv\")"
   ]
  },
  {
   "cell_type": "code",
   "execution_count": 8,
   "id": "bab3c9d3",
   "metadata": {
    "ExecuteTime": {
     "end_time": "2023-10-31T15:26:37.925892Z",
     "start_time": "2023-10-31T15:26:37.898231Z"
    }
   },
   "outputs": [
    {
     "data": {
      "text/html": [
       "<div>\n",
       "<style scoped>\n",
       "    .dataframe tbody tr th:only-of-type {\n",
       "        vertical-align: middle;\n",
       "    }\n",
       "\n",
       "    .dataframe tbody tr th {\n",
       "        vertical-align: top;\n",
       "    }\n",
       "\n",
       "    .dataframe thead th {\n",
       "        text-align: right;\n",
       "    }\n",
       "</style>\n",
       "<table border=\"1\" class=\"dataframe\">\n",
       "  <thead>\n",
       "    <tr style=\"text-align: right;\">\n",
       "      <th></th>\n",
       "      <th>gender</th>\n",
       "      <th>SeniorCitizen</th>\n",
       "      <th>Partner</th>\n",
       "      <th>Dependents</th>\n",
       "      <th>tenure</th>\n",
       "      <th>PhoneService</th>\n",
       "      <th>MultipleLines</th>\n",
       "      <th>InternetService</th>\n",
       "      <th>OnlineSecurity</th>\n",
       "      <th>OnlineBackup</th>\n",
       "      <th>DeviceProtection</th>\n",
       "      <th>TechSupport</th>\n",
       "      <th>StreamingTV</th>\n",
       "      <th>StreamingMovies</th>\n",
       "      <th>Contract</th>\n",
       "      <th>PaperlessBilling</th>\n",
       "      <th>PaymentMethod</th>\n",
       "      <th>MonthlyCharges</th>\n",
       "      <th>TotalCharges</th>\n",
       "      <th>Churn</th>\n",
       "    </tr>\n",
       "  </thead>\n",
       "  <tbody>\n",
       "    <tr>\n",
       "      <th>0</th>\n",
       "      <td>Female</td>\n",
       "      <td>No</td>\n",
       "      <td>Yes</td>\n",
       "      <td>No</td>\n",
       "      <td>1</td>\n",
       "      <td>No</td>\n",
       "      <td>No phone service</td>\n",
       "      <td>DSL</td>\n",
       "      <td>No</td>\n",
       "      <td>Yes</td>\n",
       "      <td>No</td>\n",
       "      <td>No</td>\n",
       "      <td>No</td>\n",
       "      <td>No</td>\n",
       "      <td>Month-to-month</td>\n",
       "      <td>Yes</td>\n",
       "      <td>Electronic check</td>\n",
       "      <td>29.85</td>\n",
       "      <td>29.85</td>\n",
       "      <td>False</td>\n",
       "    </tr>\n",
       "    <tr>\n",
       "      <th>1</th>\n",
       "      <td>Male</td>\n",
       "      <td>No</td>\n",
       "      <td>No</td>\n",
       "      <td>No</td>\n",
       "      <td>34</td>\n",
       "      <td>Yes</td>\n",
       "      <td>No</td>\n",
       "      <td>DSL</td>\n",
       "      <td>Yes</td>\n",
       "      <td>No</td>\n",
       "      <td>Yes</td>\n",
       "      <td>No</td>\n",
       "      <td>No</td>\n",
       "      <td>No</td>\n",
       "      <td>One year</td>\n",
       "      <td>No</td>\n",
       "      <td>Mailed check</td>\n",
       "      <td>56.95</td>\n",
       "      <td>1889.50</td>\n",
       "      <td>False</td>\n",
       "    </tr>\n",
       "    <tr>\n",
       "      <th>2</th>\n",
       "      <td>Male</td>\n",
       "      <td>No</td>\n",
       "      <td>No</td>\n",
       "      <td>No</td>\n",
       "      <td>2</td>\n",
       "      <td>Yes</td>\n",
       "      <td>No</td>\n",
       "      <td>DSL</td>\n",
       "      <td>Yes</td>\n",
       "      <td>Yes</td>\n",
       "      <td>No</td>\n",
       "      <td>No</td>\n",
       "      <td>No</td>\n",
       "      <td>No</td>\n",
       "      <td>Month-to-month</td>\n",
       "      <td>Yes</td>\n",
       "      <td>Mailed check</td>\n",
       "      <td>53.85</td>\n",
       "      <td>108.15</td>\n",
       "      <td>True</td>\n",
       "    </tr>\n",
       "    <tr>\n",
       "      <th>3</th>\n",
       "      <td>Male</td>\n",
       "      <td>No</td>\n",
       "      <td>No</td>\n",
       "      <td>No</td>\n",
       "      <td>45</td>\n",
       "      <td>No</td>\n",
       "      <td>No phone service</td>\n",
       "      <td>DSL</td>\n",
       "      <td>Yes</td>\n",
       "      <td>No</td>\n",
       "      <td>Yes</td>\n",
       "      <td>Yes</td>\n",
       "      <td>No</td>\n",
       "      <td>No</td>\n",
       "      <td>One year</td>\n",
       "      <td>No</td>\n",
       "      <td>Bank transfer (automatic)</td>\n",
       "      <td>42.30</td>\n",
       "      <td>1840.75</td>\n",
       "      <td>False</td>\n",
       "    </tr>\n",
       "    <tr>\n",
       "      <th>4</th>\n",
       "      <td>Female</td>\n",
       "      <td>No</td>\n",
       "      <td>No</td>\n",
       "      <td>No</td>\n",
       "      <td>2</td>\n",
       "      <td>Yes</td>\n",
       "      <td>No</td>\n",
       "      <td>Fiber optic</td>\n",
       "      <td>No</td>\n",
       "      <td>No</td>\n",
       "      <td>No</td>\n",
       "      <td>No</td>\n",
       "      <td>No</td>\n",
       "      <td>No</td>\n",
       "      <td>Month-to-month</td>\n",
       "      <td>Yes</td>\n",
       "      <td>Electronic check</td>\n",
       "      <td>70.70</td>\n",
       "      <td>151.65</td>\n",
       "      <td>True</td>\n",
       "    </tr>\n",
       "    <tr>\n",
       "      <th>...</th>\n",
       "      <td>...</td>\n",
       "      <td>...</td>\n",
       "      <td>...</td>\n",
       "      <td>...</td>\n",
       "      <td>...</td>\n",
       "      <td>...</td>\n",
       "      <td>...</td>\n",
       "      <td>...</td>\n",
       "      <td>...</td>\n",
       "      <td>...</td>\n",
       "      <td>...</td>\n",
       "      <td>...</td>\n",
       "      <td>...</td>\n",
       "      <td>...</td>\n",
       "      <td>...</td>\n",
       "      <td>...</td>\n",
       "      <td>...</td>\n",
       "      <td>...</td>\n",
       "      <td>...</td>\n",
       "      <td>...</td>\n",
       "    </tr>\n",
       "    <tr>\n",
       "      <th>7027</th>\n",
       "      <td>Male</td>\n",
       "      <td>No</td>\n",
       "      <td>Yes</td>\n",
       "      <td>Yes</td>\n",
       "      <td>24</td>\n",
       "      <td>Yes</td>\n",
       "      <td>Yes</td>\n",
       "      <td>DSL</td>\n",
       "      <td>Yes</td>\n",
       "      <td>No</td>\n",
       "      <td>Yes</td>\n",
       "      <td>Yes</td>\n",
       "      <td>Yes</td>\n",
       "      <td>Yes</td>\n",
       "      <td>One year</td>\n",
       "      <td>Yes</td>\n",
       "      <td>Mailed check</td>\n",
       "      <td>84.80</td>\n",
       "      <td>1990.50</td>\n",
       "      <td>False</td>\n",
       "    </tr>\n",
       "    <tr>\n",
       "      <th>7028</th>\n",
       "      <td>Female</td>\n",
       "      <td>No</td>\n",
       "      <td>Yes</td>\n",
       "      <td>Yes</td>\n",
       "      <td>72</td>\n",
       "      <td>Yes</td>\n",
       "      <td>Yes</td>\n",
       "      <td>Fiber optic</td>\n",
       "      <td>No</td>\n",
       "      <td>Yes</td>\n",
       "      <td>Yes</td>\n",
       "      <td>No</td>\n",
       "      <td>Yes</td>\n",
       "      <td>Yes</td>\n",
       "      <td>One year</td>\n",
       "      <td>Yes</td>\n",
       "      <td>Credit card (automatic)</td>\n",
       "      <td>103.20</td>\n",
       "      <td>7362.90</td>\n",
       "      <td>False</td>\n",
       "    </tr>\n",
       "    <tr>\n",
       "      <th>7029</th>\n",
       "      <td>Female</td>\n",
       "      <td>No</td>\n",
       "      <td>Yes</td>\n",
       "      <td>Yes</td>\n",
       "      <td>11</td>\n",
       "      <td>No</td>\n",
       "      <td>No phone service</td>\n",
       "      <td>DSL</td>\n",
       "      <td>Yes</td>\n",
       "      <td>No</td>\n",
       "      <td>No</td>\n",
       "      <td>No</td>\n",
       "      <td>No</td>\n",
       "      <td>No</td>\n",
       "      <td>Month-to-month</td>\n",
       "      <td>Yes</td>\n",
       "      <td>Electronic check</td>\n",
       "      <td>29.60</td>\n",
       "      <td>346.45</td>\n",
       "      <td>False</td>\n",
       "    </tr>\n",
       "    <tr>\n",
       "      <th>7030</th>\n",
       "      <td>Male</td>\n",
       "      <td>Yes</td>\n",
       "      <td>Yes</td>\n",
       "      <td>No</td>\n",
       "      <td>4</td>\n",
       "      <td>Yes</td>\n",
       "      <td>Yes</td>\n",
       "      <td>Fiber optic</td>\n",
       "      <td>No</td>\n",
       "      <td>No</td>\n",
       "      <td>No</td>\n",
       "      <td>No</td>\n",
       "      <td>No</td>\n",
       "      <td>No</td>\n",
       "      <td>Month-to-month</td>\n",
       "      <td>Yes</td>\n",
       "      <td>Mailed check</td>\n",
       "      <td>74.40</td>\n",
       "      <td>306.60</td>\n",
       "      <td>True</td>\n",
       "    </tr>\n",
       "    <tr>\n",
       "      <th>7031</th>\n",
       "      <td>Male</td>\n",
       "      <td>No</td>\n",
       "      <td>No</td>\n",
       "      <td>No</td>\n",
       "      <td>66</td>\n",
       "      <td>Yes</td>\n",
       "      <td>No</td>\n",
       "      <td>Fiber optic</td>\n",
       "      <td>Yes</td>\n",
       "      <td>No</td>\n",
       "      <td>Yes</td>\n",
       "      <td>Yes</td>\n",
       "      <td>Yes</td>\n",
       "      <td>Yes</td>\n",
       "      <td>Two year</td>\n",
       "      <td>Yes</td>\n",
       "      <td>Bank transfer (automatic)</td>\n",
       "      <td>105.65</td>\n",
       "      <td>6844.50</td>\n",
       "      <td>False</td>\n",
       "    </tr>\n",
       "  </tbody>\n",
       "</table>\n",
       "<p>7032 rows × 20 columns</p>\n",
       "</div>"
      ],
      "text/plain": [
       "      gender SeniorCitizen Partner Dependents  tenure PhoneService  \\\n",
       "0     Female            No     Yes         No       1           No   \n",
       "1       Male            No      No         No      34          Yes   \n",
       "2       Male            No      No         No       2          Yes   \n",
       "3       Male            No      No         No      45           No   \n",
       "4     Female            No      No         No       2          Yes   \n",
       "...      ...           ...     ...        ...     ...          ...   \n",
       "7027    Male            No     Yes        Yes      24          Yes   \n",
       "7028  Female            No     Yes        Yes      72          Yes   \n",
       "7029  Female            No     Yes        Yes      11           No   \n",
       "7030    Male           Yes     Yes         No       4          Yes   \n",
       "7031    Male            No      No         No      66          Yes   \n",
       "\n",
       "         MultipleLines InternetService OnlineSecurity OnlineBackup  \\\n",
       "0     No phone service             DSL             No          Yes   \n",
       "1                   No             DSL            Yes           No   \n",
       "2                   No             DSL            Yes          Yes   \n",
       "3     No phone service             DSL            Yes           No   \n",
       "4                   No     Fiber optic             No           No   \n",
       "...                ...             ...            ...          ...   \n",
       "7027               Yes             DSL            Yes           No   \n",
       "7028               Yes     Fiber optic             No          Yes   \n",
       "7029  No phone service             DSL            Yes           No   \n",
       "7030               Yes     Fiber optic             No           No   \n",
       "7031                No     Fiber optic            Yes           No   \n",
       "\n",
       "     DeviceProtection TechSupport StreamingTV StreamingMovies        Contract  \\\n",
       "0                  No          No          No              No  Month-to-month   \n",
       "1                 Yes          No          No              No        One year   \n",
       "2                  No          No          No              No  Month-to-month   \n",
       "3                 Yes         Yes          No              No        One year   \n",
       "4                  No          No          No              No  Month-to-month   \n",
       "...               ...         ...         ...             ...             ...   \n",
       "7027              Yes         Yes         Yes             Yes        One year   \n",
       "7028              Yes          No         Yes             Yes        One year   \n",
       "7029               No          No          No              No  Month-to-month   \n",
       "7030               No          No          No              No  Month-to-month   \n",
       "7031              Yes         Yes         Yes             Yes        Two year   \n",
       "\n",
       "     PaperlessBilling              PaymentMethod  MonthlyCharges  \\\n",
       "0                 Yes           Electronic check           29.85   \n",
       "1                  No               Mailed check           56.95   \n",
       "2                 Yes               Mailed check           53.85   \n",
       "3                  No  Bank transfer (automatic)           42.30   \n",
       "4                 Yes           Electronic check           70.70   \n",
       "...               ...                        ...             ...   \n",
       "7027              Yes               Mailed check           84.80   \n",
       "7028              Yes    Credit card (automatic)          103.20   \n",
       "7029              Yes           Electronic check           29.60   \n",
       "7030              Yes               Mailed check           74.40   \n",
       "7031              Yes  Bank transfer (automatic)          105.65   \n",
       "\n",
       "      TotalCharges  Churn  \n",
       "0            29.85  False  \n",
       "1          1889.50  False  \n",
       "2           108.15   True  \n",
       "3          1840.75  False  \n",
       "4           151.65   True  \n",
       "...            ...    ...  \n",
       "7027       1990.50  False  \n",
       "7028       7362.90  False  \n",
       "7029        346.45  False  \n",
       "7030        306.60   True  \n",
       "7031       6844.50  False  \n",
       "\n",
       "[7032 rows x 20 columns]"
      ]
     },
     "execution_count": 8,
     "metadata": {},
     "output_type": "execute_result"
    }
   ],
   "source": [
    "data"
   ]
  },
  {
   "cell_type": "code",
   "execution_count": 9,
   "id": "56ee1631",
   "metadata": {
    "ExecuteTime": {
     "end_time": "2023-10-31T15:29:29.264872Z",
     "start_time": "2023-10-31T15:29:29.240930Z"
    }
   },
   "outputs": [
    {
     "data": {
      "text/html": [
       "<div>\n",
       "<style scoped>\n",
       "    .dataframe tbody tr th:only-of-type {\n",
       "        vertical-align: middle;\n",
       "    }\n",
       "\n",
       "    .dataframe tbody tr th {\n",
       "        vertical-align: top;\n",
       "    }\n",
       "\n",
       "    .dataframe thead th {\n",
       "        text-align: right;\n",
       "    }\n",
       "</style>\n",
       "<table border=\"1\" class=\"dataframe\">\n",
       "  <thead>\n",
       "    <tr style=\"text-align: right;\">\n",
       "      <th></th>\n",
       "      <th>tenure</th>\n",
       "      <th>MonthlyCharges</th>\n",
       "      <th>TotalCharges</th>\n",
       "    </tr>\n",
       "  </thead>\n",
       "  <tbody>\n",
       "    <tr>\n",
       "      <th>count</th>\n",
       "      <td>7032.000000</td>\n",
       "      <td>7032.000000</td>\n",
       "      <td>7032.000000</td>\n",
       "    </tr>\n",
       "    <tr>\n",
       "      <th>mean</th>\n",
       "      <td>32.421786</td>\n",
       "      <td>64.798208</td>\n",
       "      <td>2283.300441</td>\n",
       "    </tr>\n",
       "    <tr>\n",
       "      <th>std</th>\n",
       "      <td>24.545260</td>\n",
       "      <td>30.085974</td>\n",
       "      <td>2266.771362</td>\n",
       "    </tr>\n",
       "    <tr>\n",
       "      <th>min</th>\n",
       "      <td>1.000000</td>\n",
       "      <td>18.250000</td>\n",
       "      <td>18.800000</td>\n",
       "    </tr>\n",
       "    <tr>\n",
       "      <th>25%</th>\n",
       "      <td>9.000000</td>\n",
       "      <td>35.587500</td>\n",
       "      <td>401.450000</td>\n",
       "    </tr>\n",
       "    <tr>\n",
       "      <th>50%</th>\n",
       "      <td>29.000000</td>\n",
       "      <td>70.350000</td>\n",
       "      <td>1397.475000</td>\n",
       "    </tr>\n",
       "    <tr>\n",
       "      <th>75%</th>\n",
       "      <td>55.000000</td>\n",
       "      <td>89.862500</td>\n",
       "      <td>3794.737500</td>\n",
       "    </tr>\n",
       "    <tr>\n",
       "      <th>max</th>\n",
       "      <td>72.000000</td>\n",
       "      <td>118.750000</td>\n",
       "      <td>8684.800000</td>\n",
       "    </tr>\n",
       "  </tbody>\n",
       "</table>\n",
       "</div>"
      ],
      "text/plain": [
       "            tenure  MonthlyCharges  TotalCharges\n",
       "count  7032.000000     7032.000000   7032.000000\n",
       "mean     32.421786       64.798208   2283.300441\n",
       "std      24.545260       30.085974   2266.771362\n",
       "min       1.000000       18.250000     18.800000\n",
       "25%       9.000000       35.587500    401.450000\n",
       "50%      29.000000       70.350000   1397.475000\n",
       "75%      55.000000       89.862500   3794.737500\n",
       "max      72.000000      118.750000   8684.800000"
      ]
     },
     "execution_count": 9,
     "metadata": {},
     "output_type": "execute_result"
    }
   ],
   "source": [
    "data.describe()"
   ]
  },
  {
   "cell_type": "markdown",
   "id": "c8de020e",
   "metadata": {},
   "source": [
    "# Analysis"
   ]
  },
  {
   "cell_type": "markdown",
   "id": "d22bb2ac",
   "metadata": {},
   "source": [
    "## Customer Demographics\n",
    "## ------------------------------------------------------"
   ]
  },
  {
   "cell_type": "markdown",
   "id": "ed8c71e6",
   "metadata": {},
   "source": [
    "### Gender Analysis"
   ]
  },
  {
   "cell_type": "code",
   "execution_count": 10,
   "id": "fef1d471",
   "metadata": {
    "ExecuteTime": {
     "end_time": "2023-10-31T15:30:07.053630Z",
     "start_time": "2023-10-31T15:30:07.040160Z"
    }
   },
   "outputs": [],
   "source": [
    "gender_group=data.groupby('gender')\n",
    "gender_churn_percentage= gender_group['Churn'].mean()*100"
   ]
  },
  {
   "cell_type": "code",
   "execution_count": 11,
   "id": "aea62604",
   "metadata": {
    "ExecuteTime": {
     "end_time": "2023-10-31T15:30:07.814441Z",
     "start_time": "2023-10-31T15:30:07.799159Z"
    }
   },
   "outputs": [
    {
     "data": {
      "text/html": [
       "<div>\n",
       "<style scoped>\n",
       "    .dataframe tbody tr th:only-of-type {\n",
       "        vertical-align: middle;\n",
       "    }\n",
       "\n",
       "    .dataframe tbody tr th {\n",
       "        vertical-align: top;\n",
       "    }\n",
       "\n",
       "    .dataframe thead th {\n",
       "        text-align: right;\n",
       "    }\n",
       "</style>\n",
       "<table border=\"1\" class=\"dataframe\">\n",
       "  <thead>\n",
       "    <tr style=\"text-align: right;\">\n",
       "      <th></th>\n",
       "      <th>gender</th>\n",
       "      <th>Churn</th>\n",
       "    </tr>\n",
       "  </thead>\n",
       "  <tbody>\n",
       "    <tr>\n",
       "      <th>0</th>\n",
       "      <td>Female</td>\n",
       "      <td>26.959518</td>\n",
       "    </tr>\n",
       "    <tr>\n",
       "      <th>1</th>\n",
       "      <td>Male</td>\n",
       "      <td>26.204565</td>\n",
       "    </tr>\n",
       "  </tbody>\n",
       "</table>\n",
       "</div>"
      ],
      "text/plain": [
       "   gender      Churn\n",
       "0  Female  26.959518\n",
       "1    Male  26.204565"
      ]
     },
     "execution_count": 11,
     "metadata": {},
     "output_type": "execute_result"
    }
   ],
   "source": [
    "gender_churn_percentage= gender_churn_percentage.reset_index()\n",
    "gender_churn_percentage"
   ]
  },
  {
   "cell_type": "code",
   "execution_count": 13,
   "id": "944a5a3d",
   "metadata": {
    "ExecuteTime": {
     "end_time": "2023-10-31T15:30:47.394068Z",
     "start_time": "2023-10-31T15:30:47.273198Z"
    }
   },
   "outputs": [
    {
     "data": {
      "text/plain": [
       "<Axes: xlabel='gender', ylabel='Churn'>"
      ]
     },
     "execution_count": 13,
     "metadata": {},
     "output_type": "execute_result"
    },
    {
     "data": {
      "image/png": "[encoded data removed]",
      "text/plain": [
       "<Figure size 640x480 with 1 Axes>"
      ]
     },
     "metadata": {},
     "output_type": "display_data"
    }
   ],
   "source": [
    "sns.barplot(x=gender_churn_percentage['gender'], y=gender_churn_percentage['Churn'], hue= gender_churn_percentage['gender'])"
   ]
  },
  {
   "cell_type": "code",
   "execution_count": 14,
   "id": "a7fef296",
   "metadata": {
    "ExecuteTime": {
     "end_time": "2023-10-31T15:34:59.832782Z",
     "start_time": "2023-10-31T15:34:59.816797Z"
    }
   },
   "outputs": [
    {
     "name": "stdout",
     "output_type": "stream",
     "text": [
      "Correlation: -0.0085446432249463\n",
      "p-value: 0.47373573732076896\n"
     ]
    }
   ],
   "source": [
    "churn = data['Churn'].astype(int)  # Convert 'Churn' to numeric (assuming binary: 0 or 1)\n",
    "gender = data['gender'].map({'Female': 0, 'Male': 1})  # Map 'gender' to numeric values\n",
    "\n",
    "correlation, p_value = stats.pointbiserialr(churn, gender)\n",
    "print(\"Correlation:\", correlation)\n",
    "print(\"p-value:\", p_value)"
   ]
  },
  {
   "cell_type": "markdown",
   "id": "4c79469c",
   "metadata": {},
   "source": [
    "### Seniority Analysis"
   ]
  },
  {
   "cell_type": "code",
   "execution_count": 15,
   "id": "b8fdffb5",
   "metadata": {
    "ExecuteTime": {
     "end_time": "2023-10-31T15:35:03.821755Z",
     "start_time": "2023-10-31T15:35:03.812326Z"
    }
   },
   "outputs": [],
   "source": [
    "senior_group= data.groupby('SeniorCitizen')\n",
    "senior_churn_percentage= senior_group['Churn'].mean()*100"
   ]
  },
  {
   "cell_type": "code",
   "execution_count": 16,
   "id": "1e37c8ac",
   "metadata": {
    "ExecuteTime": {
     "end_time": "2023-10-31T15:35:10.743577Z",
     "start_time": "2023-10-31T15:35:10.731969Z"
    }
   },
   "outputs": [
    {
     "name": "stdout",
     "output_type": "stream",
     "text": [
      "Correlation: 0.15054105341568247\n",
      "p-value: 6.3772947115836e-37\n"
     ]
    }
   ],
   "source": [
    "churn = data['Churn'].astype(int)  # Convert 'Churn' to numeric (assuming binary: 0 or 1)\n",
    "senior = data['SeniorCitizen'].map({'No': 0, 'Yes': 1})  # Map 'senior' to numeric values\n",
    "\n",
    "correlation, p_value = stats.pointbiserialr(churn, senior)\n",
    "print(\"Correlation:\", correlation)\n",
    "print(\"p-value:\", p_value)"
   ]
  },
  {
   "cell_type": "code",
   "execution_count": 17,
   "id": "cce18716",
   "metadata": {
    "ExecuteTime": {
     "end_time": "2023-10-31T15:35:14.084219Z",
     "start_time": "2023-10-31T15:35:14.067971Z"
    }
   },
   "outputs": [
    {
     "data": {
      "text/html": [
       "<div>\n",
       "<style scoped>\n",
       "    .dataframe tbody tr th:only-of-type {\n",
       "        vertical-align: middle;\n",
       "    }\n",
       "\n",
       "    .dataframe tbody tr th {\n",
       "        vertical-align: top;\n",
       "    }\n",
       "\n",
       "    .dataframe thead th {\n",
       "        text-align: right;\n",
       "    }\n",
       "</style>\n",
       "<table border=\"1\" class=\"dataframe\">\n",
       "  <thead>\n",
       "    <tr style=\"text-align: right;\">\n",
       "      <th></th>\n",
       "      <th>SeniorCitizen</th>\n",
       "      <th>Churn</th>\n",
       "    </tr>\n",
       "  </thead>\n",
       "  <tbody>\n",
       "    <tr>\n",
       "      <th>0</th>\n",
       "      <td>No</td>\n",
       "      <td>23.650255</td>\n",
       "    </tr>\n",
       "    <tr>\n",
       "      <th>1</th>\n",
       "      <td>Yes</td>\n",
       "      <td>41.681261</td>\n",
       "    </tr>\n",
       "  </tbody>\n",
       "</table>\n",
       "</div>"
      ],
      "text/plain": [
       "  SeniorCitizen      Churn\n",
       "0            No  23.650255\n",
       "1           Yes  41.681261"
      ]
     },
     "execution_count": 17,
     "metadata": {},
     "output_type": "execute_result"
    }
   ],
   "source": [
    "senior_churn_percentage =senior_churn_percentage.reset_index()\n",
    "senior_churn_percentage"
   ]
  },
  {
   "cell_type": "code",
   "execution_count": 18,
   "id": "d90dfe9b",
   "metadata": {
    "ExecuteTime": {
     "end_time": "2023-10-31T15:35:14.930006Z",
     "start_time": "2023-10-31T15:35:14.802101Z"
    }
   },
   "outputs": [
    {
     "data": {
      "text/plain": [
       "<Axes: xlabel='SeniorCitizen', ylabel='Churn'>"
      ]
     },
     "execution_count": 18,
     "metadata": {},
     "output_type": "execute_result"
    },
    {
     "data": {
      "image/png": "[encoded data removed]",
      "text/plain": [
       "<Figure size 640x480 with 1 Axes>"
      ]
     },
     "metadata": {},
     "output_type": "display_data"
    }
   ],
   "source": [
    "sns.barplot(x= senior_churn_percentage['SeniorCitizen'], y= senior_churn_percentage['Churn'], hue= senior_churn_percentage['SeniorCitizen'])"
   ]
  },
  {
   "cell_type": "markdown",
   "id": "e1338d49",
   "metadata": {},
   "source": [
    "### Partner Analysis"
   ]
  },
  {
   "cell_type": "code",
   "execution_count": 19,
   "id": "fe262ccc",
   "metadata": {
    "ExecuteTime": {
     "end_time": "2023-10-31T15:35:19.234865Z",
     "start_time": "2023-10-31T15:35:19.217465Z"
    }
   },
   "outputs": [],
   "source": [
    "partner_group= data.groupby('Partner')\n",
    "partner_churn_percentage= partner_group['Churn'].mean()*100"
   ]
  },
  {
   "cell_type": "code",
   "execution_count": 20,
   "id": "fb92aad0",
   "metadata": {
    "ExecuteTime": {
     "end_time": "2023-10-31T15:35:20.138093Z",
     "start_time": "2023-10-31T15:35:20.117472Z"
    }
   },
   "outputs": [
    {
     "data": {
      "text/html": [
       "<div>\n",
       "<style scoped>\n",
       "    .dataframe tbody tr th:only-of-type {\n",
       "        vertical-align: middle;\n",
       "    }\n",
       "\n",
       "    .dataframe tbody tr th {\n",
       "        vertical-align: top;\n",
       "    }\n",
       "\n",
       "    .dataframe thead th {\n",
       "        text-align: right;\n",
       "    }\n",
       "</style>\n",
       "<table border=\"1\" class=\"dataframe\">\n",
       "  <thead>\n",
       "    <tr style=\"text-align: right;\">\n",
       "      <th></th>\n",
       "      <th>Partner</th>\n",
       "      <th>Churn</th>\n",
       "    </tr>\n",
       "  </thead>\n",
       "  <tbody>\n",
       "    <tr>\n",
       "      <th>0</th>\n",
       "      <td>No</td>\n",
       "      <td>32.976092</td>\n",
       "    </tr>\n",
       "    <tr>\n",
       "      <th>1</th>\n",
       "      <td>Yes</td>\n",
       "      <td>19.717065</td>\n",
       "    </tr>\n",
       "  </tbody>\n",
       "</table>\n",
       "</div>"
      ],
      "text/plain": [
       "  Partner      Churn\n",
       "0      No  32.976092\n",
       "1     Yes  19.717065"
      ]
     },
     "execution_count": 20,
     "metadata": {},
     "output_type": "execute_result"
    }
   ],
   "source": [
    "partner_churn_percentage= partner_churn_percentage.reset_index()\n",
    "partner_churn_percentage"
   ]
  },
  {
   "cell_type": "code",
   "execution_count": 21,
   "id": "8ef64d20",
   "metadata": {
    "ExecuteTime": {
     "end_time": "2023-10-31T15:35:21.127922Z",
     "start_time": "2023-10-31T15:35:21.010534Z"
    }
   },
   "outputs": [
    {
     "data": {
      "text/plain": [
       "<Axes: xlabel='Partner', ylabel='Churn'>"
      ]
     },
     "execution_count": 21,
     "metadata": {},
     "output_type": "execute_result"
    },
    {
     "data": {
      "image/png": "[encoded data removed]",
      "text/plain": [
       "<Figure size 640x480 with 1 Axes>"
      ]
     },
     "metadata": {},
     "output_type": "display_data"
    }
   ],
   "source": [
    "sns.barplot(x= partner_churn_percentage['Partner'], y= partner_churn_percentage['Churn'], hue= partner_churn_percentage['Partner'])"
   ]
  },
  {
   "cell_type": "code",
   "execution_count": 22,
   "id": "fc71d20e",
   "metadata": {
    "ExecuteTime": {
     "end_time": "2023-10-31T15:35:26.317549Z",
     "start_time": "2023-10-31T15:35:26.307547Z"
    }
   },
   "outputs": [
    {
     "name": "stdout",
     "output_type": "stream",
     "text": [
      "Correlation: -0.14998192562006132\n",
      "p-value: 1.1712904936164382e-36\n"
     ]
    }
   ],
   "source": [
    "churn = data['Churn'].astype(int)  # Convert 'Churn' to numeric (assuming binary: 0 or 1)\n",
    "partner = data['Partner'].map({'No': 0, 'Yes': 1})  # Map 'partner' to numeric values\n",
    "\n",
    "correlation, p_value = stats.pointbiserialr(churn, partner)\n",
    "print(\"Correlation:\", correlation)\n",
    "print(\"p-value:\", p_value)"
   ]
  },
  {
   "cell_type": "markdown",
   "id": "c965b444",
   "metadata": {},
   "source": [
    "### Dependents Analysis"
   ]
  },
  {
   "cell_type": "code",
   "execution_count": 23,
   "id": "de6d2043",
   "metadata": {
    "ExecuteTime": {
     "end_time": "2023-10-31T15:35:31.467368Z",
     "start_time": "2023-10-31T15:35:31.451364Z"
    }
   },
   "outputs": [
    {
     "data": {
      "text/html": [
       "<div>\n",
       "<style scoped>\n",
       "    .dataframe tbody tr th:only-of-type {\n",
       "        vertical-align: middle;\n",
       "    }\n",
       "\n",
       "    .dataframe tbody tr th {\n",
       "        vertical-align: top;\n",
       "    }\n",
       "\n",
       "    .dataframe thead th {\n",
       "        text-align: right;\n",
       "    }\n",
       "</style>\n",
       "<table border=\"1\" class=\"dataframe\">\n",
       "  <thead>\n",
       "    <tr style=\"text-align: right;\">\n",
       "      <th></th>\n",
       "      <th>Dependents</th>\n",
       "      <th>Churn</th>\n",
       "    </tr>\n",
       "  </thead>\n",
       "  <tbody>\n",
       "    <tr>\n",
       "      <th>0</th>\n",
       "      <td>No</td>\n",
       "      <td>31.279140</td>\n",
       "    </tr>\n",
       "    <tr>\n",
       "      <th>1</th>\n",
       "      <td>Yes</td>\n",
       "      <td>15.531205</td>\n",
       "    </tr>\n",
       "  </tbody>\n",
       "</table>\n",
       "</div>"
      ],
      "text/plain": [
       "  Dependents      Churn\n",
       "0         No  31.279140\n",
       "1        Yes  15.531205"
      ]
     },
     "execution_count": 23,
     "metadata": {},
     "output_type": "execute_result"
    }
   ],
   "source": [
    "dependents_group_churn_percentage= data.groupby('Dependents')['Churn'].mean()*100\n",
    "dependents_group_churn_percentage=dependents_group_churn_percentage.reset_index()\n",
    "dependents_group_churn_percentage"
   ]
  },
  {
   "cell_type": "code",
   "execution_count": 24,
   "id": "afa3c0dc",
   "metadata": {
    "ExecuteTime": {
     "end_time": "2023-10-31T15:35:38.014754Z",
     "start_time": "2023-10-31T15:35:37.886482Z"
    }
   },
   "outputs": [
    {
     "data": {
      "text/plain": [
       "<Axes: xlabel='Dependents', ylabel='Churn'>"
      ]
     },
     "execution_count": 24,
     "metadata": {},
     "output_type": "execute_result"
    },
    {
     "data": {
      "image/png": "[encoded data removed]",
      "text/plain": [
       "<Figure size 640x480 with 1 Axes>"
      ]
     },
     "metadata": {},
     "output_type": "display_data"
    }
   ],
   "source": [
    "sns.barplot(x= dependents_group_churn_percentage['Dependents'], y= dependents_group_churn_percentage['Churn'], hue= dependents_group_churn_percentage['Dependents'])"
   ]
  },
  {
   "cell_type": "code",
   "execution_count": 26,
   "id": "5c766fd9",
   "metadata": {
    "ExecuteTime": {
     "end_time": "2023-10-31T15:35:46.302071Z",
     "start_time": "2023-10-31T15:35:46.292181Z"
    }
   },
   "outputs": [
    {
     "name": "stdout",
     "output_type": "stream",
     "text": [
      "Correlation: -0.16312843938822205\n",
      "p-value: 3.896536305260066e-43\n"
     ]
    }
   ],
   "source": [
    "churn = data['Churn'].astype(int)  # Convert 'Churn' to numeric (assuming binary: 0 or 1)\n",
    "dependent = data['Dependents'].map({'No': 0, 'Yes': 1})  # Map 'depentend' to numeric values\n",
    "\n",
    "correlation, p_value = stats.pointbiserialr(churn, dependent)\n",
    "print(\"Correlation:\", correlation)\n",
    "print(\"p-value:\", p_value)"
   ]
  },
  {
   "cell_type": "code",
   "execution_count": 28,
   "id": "0cbf9656",
   "metadata": {
    "ExecuteTime": {
     "end_time": "2023-10-31T15:35:54.091465Z",
     "start_time": "2023-10-31T15:35:53.875466Z"
    }
   },
   "outputs": [
    {
     "data": {
      "image/png": "[encoded data removed]",
      "text/plain": [
       "<Figure size 1200x800 with 1 Axes>"
      ]
     },
     "metadata": {},
     "output_type": "display_data"
    }
   ],
   "source": [
    "import matplotlib.pyplot as plt\n",
    "import seaborn as sns\n",
    "\n",
    "# Group data by different categories\n",
    "grouped_data = data.groupby(['gender', 'Partner', 'Dependents', 'SeniorCitizen'])['Churn'].mean().reset_index()\n",
    "\n",
    "# Create a single bar plot\n",
    "plt.figure(figsize=(12, 8))\n",
    "\n",
    "# Plot the bar chart with hue parameter\n",
    "sns.barplot(data=grouped_data, x='gender', y='Churn', hue='Partner', dodge=False)\n",
    "\n",
    "# Set labels and title\n",
    "plt.xlabel('Gender')\n",
    "plt.ylabel('Churn Percentage')\n",
    "plt.title('Churn Percentage by Gender and Partner')\n",
    "\n",
    "# Display the plot\n",
    "plt.show()\n"
   ]
  },
  {
   "cell_type": "markdown",
   "id": "12c221af",
   "metadata": {},
   "source": [
    "## Assossiation with company\n",
    "## ---------------------------------------------"
   ]
  },
  {
   "cell_type": "markdown",
   "id": "8c350ca8",
   "metadata": {},
   "source": [
    "### Tenure Analysis"
   ]
  },
  {
   "cell_type": "code",
   "execution_count": 29,
   "id": "98f5bd61",
   "metadata": {
    "ExecuteTime": {
     "end_time": "2023-10-31T15:36:01.317316Z",
     "start_time": "2023-10-31T15:36:01.159841Z"
    }
   },
   "outputs": [
    {
     "data": {
      "text/plain": [
       "<Axes: xlabel='tenure', ylabel='Count'>"
      ]
     },
     "execution_count": 29,
     "metadata": {},
     "output_type": "execute_result"
    },
    {
     "data": {
      "image/png": "[encoded data removed]",
      "text/plain": [
       "<Figure size 640x480 with 1 Axes>"
      ]
     },
     "metadata": {},
     "output_type": "display_data"
    }
   ],
   "source": [
    "sns.histplot(data[data['Churn']==True]['tenure'])"
   ]
  },
  {
   "cell_type": "code",
   "execution_count": 30,
   "id": "1d89985d",
   "metadata": {
    "ExecuteTime": {
     "end_time": "2023-10-31T15:36:08.911324Z",
     "start_time": "2023-10-31T15:36:08.690564Z"
    }
   },
   "outputs": [
    {
     "data": {
      "text/plain": [
       "<Axes: xlabel='tenure', ylabel='Count'>"
      ]
     },
     "execution_count": 30,
     "metadata": {},
     "output_type": "execute_result"
    },
    {
     "data": {
      "image/png": "[encoded data removed]",
      "text/plain": [
       "<Figure size 640x480 with 1 Axes>"
      ]
     },
     "metadata": {},
     "output_type": "display_data"
    }
   ],
   "source": [
    "sns.histplot(data[data['Churn']==False]['tenure'])"
   ]
  },
  {
   "cell_type": "code",
   "execution_count": 31,
   "id": "d1d71019",
   "metadata": {
    "ExecuteTime": {
     "end_time": "2023-10-31T15:36:20.775364Z",
     "start_time": "2023-10-31T15:36:20.559366Z"
    }
   },
   "outputs": [
    {
     "data": {
      "image/png": "[encoded data removed]",
      "text/plain": [
       "<Figure size 640x480 with 1 Axes>"
      ]
     },
     "metadata": {},
     "output_type": "display_data"
    }
   ],
   "source": [
    "# Create two subsets of data for churned and non-churned customers\n",
    "churned_customers = data[data['Churn'] == True]\n",
    "non_churned_customers = data[data['Churn'] == False]\n",
    "\n",
    "sns.histplot(data=non_churned_customers, x='tenure', label='Non-Churned', color='blue', alpha=0.5)\n",
    "sns.histplot(data=churned_customers, x='tenure', label='Churned', color='red' ,alpha=0.5)\n",
    "plt.xlabel('Tenure')\n",
    "plt.ylabel('Count')\n",
    "plt.title('Histogram of Churned vs Non-Churned Customers by Tenure')\n",
    "plt.legend()\n",
    "plt.show()"
   ]
  },
  {
   "cell_type": "code",
   "execution_count": 32,
   "id": "efe8eee5",
   "metadata": {
    "ExecuteTime": {
     "end_time": "2023-10-31T15:36:32.161311Z",
     "start_time": "2023-10-31T15:36:31.926541Z"
    }
   },
   "outputs": [
    {
     "data": {
      "image/png": "[encoded data removed]",
      "text/plain": [
       "<Figure size 1500x600 with 1 Axes>"
      ]
     },
     "metadata": {},
     "output_type": "display_data"
    }
   ],
   "source": [
    "bins = range(0, 80, 5)\n",
    "\n",
    "# Group tenure into bins\n",
    "data['tenure_group'] = pd.cut(data['tenure'], bins=bins)\n",
    "\n",
    "plt.figure(figsize=(15, 6))\n",
    "\n",
    "# Calculate the churn percentage for each tenure group\n",
    "churn_percentage = (data.groupby('tenure_group')['Churn'].mean() * 100).reset_index()\n",
    "\n",
    "# Define a color palette\n",
    "colors = sns.color_palette('Blues_r', len(churn_percentage))\n",
    "\n",
    "# Plot the bar chart with the color palette\n",
    "sns.barplot(x='tenure_group', y='Churn', data=churn_percentage, palette=colors)\n",
    "\n",
    "# Set labels and title\n",
    "plt.xlabel('Tenure Group')\n",
    "plt.ylabel('Churn Percentage')\n",
    "plt.title('Churn Percentage by Tenure Group')\n",
    "\n",
    "# Display the plot\n",
    "plt.show()"
   ]
  },
  {
   "cell_type": "markdown",
   "id": "277e9315",
   "metadata": {},
   "source": [
    "### Phone Service Analysis"
   ]
  },
  {
   "cell_type": "code",
   "execution_count": 34,
   "id": "f4b34886",
   "metadata": {
    "ExecuteTime": {
     "end_time": "2023-10-31T15:37:00.391875Z",
     "start_time": "2023-10-31T15:37:00.373863Z"
    }
   },
   "outputs": [
    {
     "data": {
      "text/html": [
       "<div>\n",
       "<style scoped>\n",
       "    .dataframe tbody tr th:only-of-type {\n",
       "        vertical-align: middle;\n",
       "    }\n",
       "\n",
       "    .dataframe tbody tr th {\n",
       "        vertical-align: top;\n",
       "    }\n",
       "\n",
       "    .dataframe thead th {\n",
       "        text-align: right;\n",
       "    }\n",
       "</style>\n",
       "<table border=\"1\" class=\"dataframe\">\n",
       "  <thead>\n",
       "    <tr style=\"text-align: right;\">\n",
       "      <th></th>\n",
       "      <th>PhoneService</th>\n",
       "      <th>Churn</th>\n",
       "    </tr>\n",
       "  </thead>\n",
       "  <tbody>\n",
       "    <tr>\n",
       "      <th>0</th>\n",
       "      <td>No</td>\n",
       "      <td>25.000000</td>\n",
       "    </tr>\n",
       "    <tr>\n",
       "      <th>1</th>\n",
       "      <td>Yes</td>\n",
       "      <td>26.747481</td>\n",
       "    </tr>\n",
       "  </tbody>\n",
       "</table>\n",
       "</div>"
      ],
      "text/plain": [
       "  PhoneService      Churn\n",
       "0           No  25.000000\n",
       "1          Yes  26.747481"
      ]
     },
     "execution_count": 34,
     "metadata": {},
     "output_type": "execute_result"
    }
   ],
   "source": [
    "phone_service_churn_percentage=data.groupby('PhoneService')['Churn'].mean()*100\n",
    "phone_service_churn_percentage= phone_service_churn_percentage.reset_index()\n",
    "phone_service_churn_percentage"
   ]
  },
  {
   "cell_type": "code",
   "execution_count": 35,
   "id": "5f8b2a51",
   "metadata": {
    "ExecuteTime": {
     "end_time": "2023-10-31T15:37:01.294882Z",
     "start_time": "2023-10-31T15:37:01.181812Z"
    }
   },
   "outputs": [
    {
     "data": {
      "text/plain": [
       "<Axes: xlabel='PhoneService', ylabel='Churn'>"
      ]
     },
     "execution_count": 35,
     "metadata": {},
     "output_type": "execute_result"
    },
    {
     "data": {
      "image/png": "[encoded data removed]",
      "text/plain": [
       "<Figure size 640x480 with 1 Axes>"
      ]
     },
     "metadata": {},
     "output_type": "display_data"
    }
   ],
   "source": [
    "sns.barplot(x=phone_service_churn_percentage['PhoneService'], y= phone_service_churn_percentage['Churn'], hue=phone_service_churn_percentage['PhoneService'] )"
   ]
  },
  {
   "cell_type": "code",
   "execution_count": 37,
   "id": "df72ef52",
   "metadata": {
    "ExecuteTime": {
     "end_time": "2023-10-31T15:37:14.302515Z",
     "start_time": "2023-10-31T15:37:14.281211Z"
    }
   },
   "outputs": [
    {
     "name": "stdout",
     "output_type": "stream",
     "text": [
      "Correlation: 0.011691398865421993\n",
      "p-value: 0.3269552813548165\n"
     ]
    }
   ],
   "source": [
    "churn = data['Churn'].astype(int)  # Convert 'Churn' to numeric (assuming binary: 0 or 1)\n",
    "phoneservice = data['PhoneService'].map({'No': 0, 'Yes': 1})  # Map 'phoneservice' to numeric values\n",
    "\n",
    "correlation, p_value = stats.pointbiserialr(churn, phoneservice)\n",
    "print(\"Correlation:\", correlation)\n",
    "print(\"p-value:\", p_value)"
   ]
  },
  {
   "cell_type": "markdown",
   "id": "6d1003a0",
   "metadata": {},
   "source": [
    "### Multiple Line Connection Analysis"
   ]
  },
  {
   "cell_type": "code",
   "execution_count": 38,
   "id": "8cc6462c",
   "metadata": {
    "ExecuteTime": {
     "end_time": "2023-10-31T15:37:17.976157Z",
     "start_time": "2023-10-31T15:37:17.966650Z"
    }
   },
   "outputs": [
    {
     "data": {
      "text/html": [
       "<div>\n",
       "<style scoped>\n",
       "    .dataframe tbody tr th:only-of-type {\n",
       "        vertical-align: middle;\n",
       "    }\n",
       "\n",
       "    .dataframe tbody tr th {\n",
       "        vertical-align: top;\n",
       "    }\n",
       "\n",
       "    .dataframe thead th {\n",
       "        text-align: right;\n",
       "    }\n",
       "</style>\n",
       "<table border=\"1\" class=\"dataframe\">\n",
       "  <thead>\n",
       "    <tr style=\"text-align: right;\">\n",
       "      <th></th>\n",
       "      <th>MultipleLines</th>\n",
       "      <th>Churn</th>\n",
       "    </tr>\n",
       "  </thead>\n",
       "  <tbody>\n",
       "    <tr>\n",
       "      <th>0</th>\n",
       "      <td>No</td>\n",
       "      <td>25.081241</td>\n",
       "    </tr>\n",
       "    <tr>\n",
       "      <th>1</th>\n",
       "      <td>No phone service</td>\n",
       "      <td>25.000000</td>\n",
       "    </tr>\n",
       "    <tr>\n",
       "      <th>2</th>\n",
       "      <td>Yes</td>\n",
       "      <td>28.648466</td>\n",
       "    </tr>\n",
       "  </tbody>\n",
       "</table>\n",
       "</div>"
      ],
      "text/plain": [
       "      MultipleLines      Churn\n",
       "0                No  25.081241\n",
       "1  No phone service  25.000000\n",
       "2               Yes  28.648466"
      ]
     },
     "execution_count": 38,
     "metadata": {},
     "output_type": "execute_result"
    }
   ],
   "source": [
    "multiple_phone_lines_churn_percentage=data.groupby('MultipleLines')['Churn'].mean()*100\n",
    "multiple_phone_lines_churn_percentage= multiple_phone_lines_churn_percentage.reset_index()\n",
    "multiple_phone_lines_churn_percentage"
   ]
  },
  {
   "cell_type": "code",
   "execution_count": 39,
   "id": "476bf5ea",
   "metadata": {
    "ExecuteTime": {
     "end_time": "2023-10-31T15:37:19.099199Z",
     "start_time": "2023-10-31T15:37:18.967921Z"
    }
   },
   "outputs": [
    {
     "data": {
      "text/plain": [
       "<Axes: xlabel='MultipleLines', ylabel='Churn'>"
      ]
     },
     "execution_count": 39,
     "metadata": {},
     "output_type": "execute_result"
    },
    {
     "data": {
      "image/png": "[encoded data removed]",
      "text/plain": [
       "<Figure size 640x480 with 1 Axes>"
      ]
     },
     "metadata": {},
     "output_type": "display_data"
    }
   ],
   "source": [
    "sns.barplot(x= multiple_phone_lines_churn_percentage['MultipleLines'], y= multiple_phone_lines_churn_percentage['Churn']\n",
    "           ,order= ['No phone service','No', 'Yes']\n",
    "           ,hue=multiple_phone_lines_churn_percentage['MultipleLines'] )"
   ]
  },
  {
   "cell_type": "code",
   "execution_count": 40,
   "id": "99e5af30",
   "metadata": {
    "ExecuteTime": {
     "end_time": "2023-10-31T15:37:30.220741Z",
     "start_time": "2023-10-31T15:37:30.199358Z"
    }
   },
   "outputs": [
    {
     "name": "stdout",
     "output_type": "stream",
     "text": [
      "Correlation: 0.019609134312153952\n",
      "p-value: 0.10012883740625848\n"
     ]
    }
   ],
   "source": [
    "churn = data['Churn'].astype(int)  # Convert 'Churn' to numeric (assuming binary: 0 or 1)\n",
    "multilines = data['MultipleLines'].map({'No': 0, 'Yes': 1, 'No phone service': 2})  # Map 'multilines' to numeric values\n",
    "\n",
    "correlation, p_value = stats.pointbiserialr(churn, multilines)\n",
    "print(\"Correlation:\", correlation)\n",
    "print(\"p-value:\", p_value)"
   ]
  },
  {
   "cell_type": "markdown",
   "id": "8ca9bf4d",
   "metadata": {},
   "source": [
    "### Internet Service Analysis"
   ]
  },
  {
   "cell_type": "code",
   "execution_count": 41,
   "id": "822ffabf",
   "metadata": {
    "ExecuteTime": {
     "end_time": "2023-10-31T15:37:32.365613Z",
     "start_time": "2023-10-31T15:37:32.344864Z"
    }
   },
   "outputs": [
    {
     "data": {
      "text/html": [
       "<div>\n",
       "<style scoped>\n",
       "    .dataframe tbody tr th:only-of-type {\n",
       "        vertical-align: middle;\n",
       "    }\n",
       "\n",
       "    .dataframe tbody tr th {\n",
       "        vertical-align: top;\n",
       "    }\n",
       "\n",
       "    .dataframe thead th {\n",
       "        text-align: right;\n",
       "    }\n",
       "</style>\n",
       "<table border=\"1\" class=\"dataframe\">\n",
       "  <thead>\n",
       "    <tr style=\"text-align: right;\">\n",
       "      <th></th>\n",
       "      <th>InternetService</th>\n",
       "      <th>Churn</th>\n",
       "    </tr>\n",
       "  </thead>\n",
       "  <tbody>\n",
       "    <tr>\n",
       "      <th>0</th>\n",
       "      <td>DSL</td>\n",
       "      <td>18.998344</td>\n",
       "    </tr>\n",
       "    <tr>\n",
       "      <th>1</th>\n",
       "      <td>Fiber optic</td>\n",
       "      <td>41.892765</td>\n",
       "    </tr>\n",
       "    <tr>\n",
       "      <th>2</th>\n",
       "      <td>No</td>\n",
       "      <td>7.434211</td>\n",
       "    </tr>\n",
       "  </tbody>\n",
       "</table>\n",
       "</div>"
      ],
      "text/plain": [
       "  InternetService      Churn\n",
       "0             DSL  18.998344\n",
       "1     Fiber optic  41.892765\n",
       "2              No   7.434211"
      ]
     },
     "execution_count": 41,
     "metadata": {},
     "output_type": "execute_result"
    }
   ],
   "source": [
    "internet_service_churn_percentage= data.groupby('InternetService')['Churn'].mean()*100\n",
    "internet_service_churn_percentage= internet_service_churn_percentage.reset_index()\n",
    "internet_service_churn_percentage"
   ]
  },
  {
   "cell_type": "code",
   "execution_count": 42,
   "id": "b1b133b1",
   "metadata": {
    "ExecuteTime": {
     "end_time": "2023-10-31T15:37:33.782475Z",
     "start_time": "2023-10-31T15:37:33.654741Z"
    }
   },
   "outputs": [
    {
     "data": {
      "text/plain": [
       "<Axes: xlabel='InternetService', ylabel='Churn'>"
      ]
     },
     "execution_count": 42,
     "metadata": {},
     "output_type": "execute_result"
    },
    {
     "data": {
      "image/png": "[encoded data removed]",
      "text/plain": [
       "<Figure size 640x480 with 1 Axes>"
      ]
     },
     "metadata": {},
     "output_type": "display_data"
    }
   ],
   "source": [
    "sns.barplot(x= internet_service_churn_percentage['InternetService'], y= internet_service_churn_percentage['Churn'], hue= internet_service_churn_percentage['InternetService'])"
   ]
  },
  {
   "cell_type": "markdown",
   "id": "89580f58",
   "metadata": {},
   "source": [
    "### Online Security Analysis"
   ]
  },
  {
   "cell_type": "code",
   "execution_count": 43,
   "id": "9b499c1a",
   "metadata": {
    "ExecuteTime": {
     "end_time": "2023-10-31T15:37:40.287536Z",
     "start_time": "2023-10-31T15:37:40.279451Z"
    }
   },
   "outputs": [
    {
     "data": {
      "text/html": [
       "<div>\n",
       "<style scoped>\n",
       "    .dataframe tbody tr th:only-of-type {\n",
       "        vertical-align: middle;\n",
       "    }\n",
       "\n",
       "    .dataframe tbody tr th {\n",
       "        vertical-align: top;\n",
       "    }\n",
       "\n",
       "    .dataframe thead th {\n",
       "        text-align: right;\n",
       "    }\n",
       "</style>\n",
       "<table border=\"1\" class=\"dataframe\">\n",
       "  <thead>\n",
       "    <tr style=\"text-align: right;\">\n",
       "      <th></th>\n",
       "      <th>OnlineSecurity</th>\n",
       "      <th>Churn</th>\n",
       "    </tr>\n",
       "  </thead>\n",
       "  <tbody>\n",
       "    <tr>\n",
       "      <th>0</th>\n",
       "      <td>No</td>\n",
       "      <td>41.778667</td>\n",
       "    </tr>\n",
       "    <tr>\n",
       "      <th>1</th>\n",
       "      <td>No internet service</td>\n",
       "      <td>7.434211</td>\n",
       "    </tr>\n",
       "    <tr>\n",
       "      <th>2</th>\n",
       "      <td>Yes</td>\n",
       "      <td>14.640199</td>\n",
       "    </tr>\n",
       "  </tbody>\n",
       "</table>\n",
       "</div>"
      ],
      "text/plain": [
       "        OnlineSecurity      Churn\n",
       "0                   No  41.778667\n",
       "1  No internet service   7.434211\n",
       "2                  Yes  14.640199"
      ]
     },
     "execution_count": 43,
     "metadata": {},
     "output_type": "execute_result"
    }
   ],
   "source": [
    "online_security_churn_percentage= data.groupby('OnlineSecurity')['Churn'].mean()*100\n",
    "online_security_churn_percentage= online_security_churn_percentage.reset_index()\n",
    "online_security_churn_percentage"
   ]
  },
  {
   "cell_type": "code",
   "execution_count": 44,
   "id": "3a5e36da",
   "metadata": {
    "ExecuteTime": {
     "end_time": "2023-10-31T15:37:42.085073Z",
     "start_time": "2023-10-31T15:37:41.952491Z"
    }
   },
   "outputs": [
    {
     "data": {
      "text/plain": [
       "<Axes: xlabel='OnlineSecurity', ylabel='Churn'>"
      ]
     },
     "execution_count": 44,
     "metadata": {},
     "output_type": "execute_result"
    },
    {
     "data": {
      "image/png": "[encoded data removed]",
      "text/plain": [
       "<Figure size 640x480 with 1 Axes>"
      ]
     },
     "metadata": {},
     "output_type": "display_data"
    }
   ],
   "source": [
    "sns.barplot(x= online_security_churn_percentage['OnlineSecurity'], y= online_security_churn_percentage['Churn'], hue= online_security_churn_percentage['OnlineSecurity'])"
   ]
  },
  {
   "cell_type": "markdown",
   "id": "5b5a5f74",
   "metadata": {},
   "source": [
    "### Online Backup Analysis"
   ]
  },
  {
   "cell_type": "code",
   "execution_count": 45,
   "id": "d677ddc1",
   "metadata": {
    "ExecuteTime": {
     "end_time": "2023-10-31T15:37:47.366600Z",
     "start_time": "2023-10-31T15:37:47.351074Z"
    }
   },
   "outputs": [
    {
     "data": {
      "text/html": [
       "<div>\n",
       "<style scoped>\n",
       "    .dataframe tbody tr th:only-of-type {\n",
       "        vertical-align: middle;\n",
       "    }\n",
       "\n",
       "    .dataframe tbody tr th {\n",
       "        vertical-align: top;\n",
       "    }\n",
       "\n",
       "    .dataframe thead th {\n",
       "        text-align: right;\n",
       "    }\n",
       "</style>\n",
       "<table border=\"1\" class=\"dataframe\">\n",
       "  <thead>\n",
       "    <tr style=\"text-align: right;\">\n",
       "      <th></th>\n",
       "      <th>OnlineBackup</th>\n",
       "      <th>Churn</th>\n",
       "    </tr>\n",
       "  </thead>\n",
       "  <tbody>\n",
       "    <tr>\n",
       "      <th>0</th>\n",
       "      <td>No</td>\n",
       "      <td>39.941691</td>\n",
       "    </tr>\n",
       "    <tr>\n",
       "      <th>1</th>\n",
       "      <td>No internet service</td>\n",
       "      <td>7.434211</td>\n",
       "    </tr>\n",
       "    <tr>\n",
       "      <th>2</th>\n",
       "      <td>Yes</td>\n",
       "      <td>21.567010</td>\n",
       "    </tr>\n",
       "  </tbody>\n",
       "</table>\n",
       "</div>"
      ],
      "text/plain": [
       "          OnlineBackup      Churn\n",
       "0                   No  39.941691\n",
       "1  No internet service   7.434211\n",
       "2                  Yes  21.567010"
      ]
     },
     "execution_count": 45,
     "metadata": {},
     "output_type": "execute_result"
    }
   ],
   "source": [
    "online_backup_churn_percentage= data.groupby('OnlineBackup')['Churn'].mean()*100\n",
    "online_backup_churn_percentage = online_backup_churn_percentage.reset_index()\n",
    "online_backup_churn_percentage"
   ]
  },
  {
   "cell_type": "code",
   "execution_count": 46,
   "id": "32b321d6",
   "metadata": {
    "ExecuteTime": {
     "end_time": "2023-10-31T15:37:49.514835Z",
     "start_time": "2023-10-31T15:37:49.376295Z"
    }
   },
   "outputs": [
    {
     "data": {
      "text/plain": [
       "<Axes: xlabel='OnlineBackup', ylabel='Churn'>"
      ]
     },
     "execution_count": 46,
     "metadata": {},
     "output_type": "execute_result"
    },
    {
     "data": {
      "image/png": "[encoded data removed]",
      "text/plain": [
       "<Figure size 640x480 with 1 Axes>"
      ]
     },
     "metadata": {},
     "output_type": "display_data"
    }
   ],
   "source": [
    "sns.barplot(x= online_backup_churn_percentage['OnlineBackup'], y= online_backup_churn_percentage['Churn'],hue=online_backup_churn_percentage['OnlineBackup'])"
   ]
  },
  {
   "cell_type": "markdown",
   "id": "4d241f4c",
   "metadata": {},
   "source": [
    "### Device Protection Analysis"
   ]
  },
  {
   "cell_type": "code",
   "execution_count": 58,
   "id": "69609fae",
   "metadata": {
    "ExecuteTime": {
     "end_time": "2023-10-31T16:18:05.881646Z",
     "start_time": "2023-10-31T16:18:05.862892Z"
    }
   },
   "outputs": [
    {
     "data": {
      "text/html": [
       "<div>\n",
       "<style scoped>\n",
       "    .dataframe tbody tr th:only-of-type {\n",
       "        vertical-align: middle;\n",
       "    }\n",
       "\n",
       "    .dataframe tbody tr th {\n",
       "        vertical-align: top;\n",
       "    }\n",
       "\n",
       "    .dataframe thead th {\n",
       "        text-align: right;\n",
       "    }\n",
       "</style>\n",
       "<table border=\"1\" class=\"dataframe\">\n",
       "  <thead>\n",
       "    <tr style=\"text-align: right;\">\n",
       "      <th></th>\n",
       "      <th>DeviceProtection</th>\n",
       "      <th>Churn</th>\n",
       "    </tr>\n",
       "  </thead>\n",
       "  <tbody>\n",
       "    <tr>\n",
       "      <th>0</th>\n",
       "      <td>No</td>\n",
       "      <td>39.140271</td>\n",
       "    </tr>\n",
       "    <tr>\n",
       "      <th>1</th>\n",
       "      <td>No internet service</td>\n",
       "      <td>7.434211</td>\n",
       "    </tr>\n",
       "    <tr>\n",
       "      <th>2</th>\n",
       "      <td>Yes</td>\n",
       "      <td>22.539289</td>\n",
       "    </tr>\n",
       "  </tbody>\n",
       "</table>\n",
       "</div>"
      ],
      "text/plain": [
       "      DeviceProtection      Churn\n",
       "0                   No  39.140271\n",
       "1  No internet service   7.434211\n",
       "2                  Yes  22.539289"
      ]
     },
     "execution_count": 58,
     "metadata": {},
     "output_type": "execute_result"
    }
   ],
   "source": [
    "DeviceProtection_churn_percentage= data.groupby('DeviceProtection')['Churn'].mean()*100\n",
    "DeviceProtection_churn_percentage = DeviceProtection_churn_percentage.reset_index()\n",
    "DeviceProtection_churn_percentage"
   ]
  },
  {
   "cell_type": "code",
   "execution_count": 59,
   "id": "907803b9",
   "metadata": {
    "ExecuteTime": {
     "end_time": "2023-10-31T16:18:13.033843Z",
     "start_time": "2023-10-31T16:18:12.903613Z"
    }
   },
   "outputs": [
    {
     "data": {
      "text/plain": [
       "<Axes: xlabel='DeviceProtection', ylabel='Churn'>"
      ]
     },
     "execution_count": 59,
     "metadata": {},
     "output_type": "execute_result"
    },
    {
     "data": {
      "image/png": "[encoded data removed]",
      "text/plain": [
       "<Figure size 640x480 with 1 Axes>"
      ]
     },
     "metadata": {},
     "output_type": "display_data"
    }
   ],
   "source": [
    "sns.barplot(x= DeviceProtection_churn_percentage['DeviceProtection'], y= DeviceProtection_churn_percentage['Churn'],hue=DeviceProtection_churn_percentage['DeviceProtection'])"
   ]
  },
  {
   "cell_type": "markdown",
   "id": "839ff98b",
   "metadata": {},
   "source": [
    "### Tech Support Analysis"
   ]
  },
  {
   "cell_type": "code",
   "execution_count": 60,
   "id": "42a3e442",
   "metadata": {
    "ExecuteTime": {
     "end_time": "2023-10-31T16:20:21.044833Z",
     "start_time": "2023-10-31T16:20:21.035922Z"
    }
   },
   "outputs": [
    {
     "data": {
      "text/html": [
       "<div>\n",
       "<style scoped>\n",
       "    .dataframe tbody tr th:only-of-type {\n",
       "        vertical-align: middle;\n",
       "    }\n",
       "\n",
       "    .dataframe tbody tr th {\n",
       "        vertical-align: top;\n",
       "    }\n",
       "\n",
       "    .dataframe thead th {\n",
       "        text-align: right;\n",
       "    }\n",
       "</style>\n",
       "<table border=\"1\" class=\"dataframe\">\n",
       "  <thead>\n",
       "    <tr style=\"text-align: right;\">\n",
       "      <th></th>\n",
       "      <th>TechSupport</th>\n",
       "      <th>Churn</th>\n",
       "    </tr>\n",
       "  </thead>\n",
       "  <tbody>\n",
       "    <tr>\n",
       "      <th>0</th>\n",
       "      <td>No</td>\n",
       "      <td>41.647465</td>\n",
       "    </tr>\n",
       "    <tr>\n",
       "      <th>1</th>\n",
       "      <td>No internet service</td>\n",
       "      <td>7.434211</td>\n",
       "    </tr>\n",
       "    <tr>\n",
       "      <th>2</th>\n",
       "      <td>Yes</td>\n",
       "      <td>15.196078</td>\n",
       "    </tr>\n",
       "  </tbody>\n",
       "</table>\n",
       "</div>"
      ],
      "text/plain": [
       "           TechSupport      Churn\n",
       "0                   No  41.647465\n",
       "1  No internet service   7.434211\n",
       "2                  Yes  15.196078"
      ]
     },
     "execution_count": 60,
     "metadata": {},
     "output_type": "execute_result"
    }
   ],
   "source": [
    "TechSupport_churn_percentage= data.groupby('TechSupport')['Churn'].mean()*100\n",
    "TechSupport_churn_percentage = TechSupport_churn_percentage.reset_index()\n",
    "TechSupport_churn_percentage"
   ]
  },
  {
   "cell_type": "code",
   "execution_count": 61,
   "id": "4f7d13dd",
   "metadata": {
    "ExecuteTime": {
     "end_time": "2023-10-31T16:20:21.766474Z",
     "start_time": "2023-10-31T16:20:21.624193Z"
    }
   },
   "outputs": [
    {
     "data": {
      "text/plain": [
       "<Axes: xlabel='TechSupport', ylabel='Churn'>"
      ]
     },
     "execution_count": 61,
     "metadata": {},
     "output_type": "execute_result"
    },
    {
     "data": {
      "image/png": "[encoded data removed]",
      "text/plain": [
       "<Figure size 640x480 with 1 Axes>"
      ]
     },
     "metadata": {},
     "output_type": "display_data"
    }
   ],
   "source": [
    "sns.barplot(x= TechSupport_churn_percentage['TechSupport'], y= TechSupport_churn_percentage['Churn'],hue=TechSupport_churn_percentage['TechSupport'])"
   ]
  },
  {
   "cell_type": "markdown",
   "id": "cc20800d",
   "metadata": {},
   "source": [
    "### Streaming TV Analysis"
   ]
  },
  {
   "cell_type": "code",
   "execution_count": 62,
   "id": "1a1635da",
   "metadata": {
    "ExecuteTime": {
     "end_time": "2023-10-31T16:22:39.923881Z",
     "start_time": "2023-10-31T16:22:39.905283Z"
    }
   },
   "outputs": [
    {
     "data": {
      "text/html": [
       "<div>\n",
       "<style scoped>\n",
       "    .dataframe tbody tr th:only-of-type {\n",
       "        vertical-align: middle;\n",
       "    }\n",
       "\n",
       "    .dataframe tbody tr th {\n",
       "        vertical-align: top;\n",
       "    }\n",
       "\n",
       "    .dataframe thead th {\n",
       "        text-align: right;\n",
       "    }\n",
       "</style>\n",
       "<table border=\"1\" class=\"dataframe\">\n",
       "  <thead>\n",
       "    <tr style=\"text-align: right;\">\n",
       "      <th></th>\n",
       "      <th>StreamingTV</th>\n",
       "      <th>Churn</th>\n",
       "    </tr>\n",
       "  </thead>\n",
       "  <tbody>\n",
       "    <tr>\n",
       "      <th>0</th>\n",
       "      <td>No</td>\n",
       "      <td>33.535066</td>\n",
       "    </tr>\n",
       "    <tr>\n",
       "      <th>1</th>\n",
       "      <td>No internet service</td>\n",
       "      <td>7.434211</td>\n",
       "    </tr>\n",
       "    <tr>\n",
       "      <th>2</th>\n",
       "      <td>Yes</td>\n",
       "      <td>30.114687</td>\n",
       "    </tr>\n",
       "  </tbody>\n",
       "</table>\n",
       "</div>"
      ],
      "text/plain": [
       "           StreamingTV      Churn\n",
       "0                   No  33.535066\n",
       "1  No internet service   7.434211\n",
       "2                  Yes  30.114687"
      ]
     },
     "execution_count": 62,
     "metadata": {},
     "output_type": "execute_result"
    }
   ],
   "source": [
    "StreamingTV_churn_percentage= data.groupby('StreamingTV')['Churn'].mean()*100\n",
    "StreamingTV_churn_percentage = StreamingTV_churn_percentage.reset_index()\n",
    "StreamingTV_churn_percentage"
   ]
  },
  {
   "cell_type": "code",
   "execution_count": 63,
   "id": "407deec4",
   "metadata": {
    "ExecuteTime": {
     "end_time": "2023-10-31T16:22:40.683433Z",
     "start_time": "2023-10-31T16:22:40.559450Z"
    }
   },
   "outputs": [
    {
     "data": {
      "text/plain": [
       "<Axes: xlabel='StreamingTV', ylabel='Churn'>"
      ]
     },
     "execution_count": 63,
     "metadata": {},
     "output_type": "execute_result"
    },
    {
     "data": {
      "image/png": "[encoded data removed]",
      "text/plain": [
       "<Figure size 640x480 with 1 Axes>"
      ]
     },
     "metadata": {},
     "output_type": "display_data"
    }
   ],
   "source": [
    "sns.barplot(x= StreamingTV_churn_percentage['StreamingTV'], y= StreamingTV_churn_percentage['Churn'],hue=StreamingTV_churn_percentage['StreamingTV'])"
   ]
  },
  {
   "cell_type": "markdown",
   "id": "af6d15fb",
   "metadata": {},
   "source": [
    "### Streaming Movies Analysis"
   ]
  },
  {
   "cell_type": "code",
   "execution_count": 64,
   "id": "bd405bd9",
   "metadata": {
    "ExecuteTime": {
     "end_time": "2023-10-31T16:23:34.614341Z",
     "start_time": "2023-10-31T16:23:34.598845Z"
    }
   },
   "outputs": [
    {
     "data": {
      "text/html": [
       "<div>\n",
       "<style scoped>\n",
       "    .dataframe tbody tr th:only-of-type {\n",
       "        vertical-align: middle;\n",
       "    }\n",
       "\n",
       "    .dataframe tbody tr th {\n",
       "        vertical-align: top;\n",
       "    }\n",
       "\n",
       "    .dataframe thead th {\n",
       "        text-align: right;\n",
       "    }\n",
       "</style>\n",
       "<table border=\"1\" class=\"dataframe\">\n",
       "  <thead>\n",
       "    <tr style=\"text-align: right;\">\n",
       "      <th></th>\n",
       "      <th>StreamingMovies</th>\n",
       "      <th>Churn</th>\n",
       "    </tr>\n",
       "  </thead>\n",
       "  <tbody>\n",
       "    <tr>\n",
       "      <th>0</th>\n",
       "      <td>No</td>\n",
       "      <td>33.728875</td>\n",
       "    </tr>\n",
       "    <tr>\n",
       "      <th>1</th>\n",
       "      <td>No internet service</td>\n",
       "      <td>7.434211</td>\n",
       "    </tr>\n",
       "    <tr>\n",
       "      <th>2</th>\n",
       "      <td>Yes</td>\n",
       "      <td>29.952398</td>\n",
       "    </tr>\n",
       "  </tbody>\n",
       "</table>\n",
       "</div>"
      ],
      "text/plain": [
       "       StreamingMovies      Churn\n",
       "0                   No  33.728875\n",
       "1  No internet service   7.434211\n",
       "2                  Yes  29.952398"
      ]
     },
     "execution_count": 64,
     "metadata": {},
     "output_type": "execute_result"
    }
   ],
   "source": [
    "StreamingMovies_churn_percentage= data.groupby('StreamingMovies')['Churn'].mean()*100\n",
    "StreamingMovies_churn_percentage = StreamingMovies_churn_percentage.reset_index()\n",
    "StreamingMovies_churn_percentage"
   ]
  },
  {
   "cell_type": "code",
   "execution_count": 65,
   "id": "ff5172a4",
   "metadata": {
    "ExecuteTime": {
     "end_time": "2023-10-31T16:23:35.175795Z",
     "start_time": "2023-10-31T16:23:34.959575Z"
    }
   },
   "outputs": [
    {
     "data": {
      "text/plain": [
       "<Axes: xlabel='StreamingMovies', ylabel='Churn'>"
      ]
     },
     "execution_count": 65,
     "metadata": {},
     "output_type": "execute_result"
    },
    {
     "data": {
      "image/png": "[encoded data removed]",
      "text/plain": [
       "<Figure size 640x480 with 1 Axes>"
      ]
     },
     "metadata": {},
     "output_type": "display_data"
    }
   ],
   "source": [
    "sns.barplot(x= StreamingMovies_churn_percentage['StreamingMovies'], y= StreamingMovies_churn_percentage['Churn'],hue=StreamingMovies_churn_percentage['StreamingMovies'])"
   ]
  },
  {
   "cell_type": "markdown",
   "id": "be6b7a6b",
   "metadata": {},
   "source": [
    "## Contract & Payment information\n",
    "## ---------------------------------------------"
   ]
  },
  {
   "cell_type": "markdown",
   "id": "6f87962f",
   "metadata": {},
   "source": [
    "###  Contract Analysis"
   ]
  },
  {
   "cell_type": "code",
   "execution_count": 66,
   "id": "db3331ef",
   "metadata": {
    "ExecuteTime": {
     "end_time": "2023-10-31T16:26:30.621772Z",
     "start_time": "2023-10-31T16:26:30.610255Z"
    }
   },
   "outputs": [
    {
     "data": {
      "text/html": [
       "<div>\n",
       "<style scoped>\n",
       "    .dataframe tbody tr th:only-of-type {\n",
       "        vertical-align: middle;\n",
       "    }\n",
       "\n",
       "    .dataframe tbody tr th {\n",
       "        vertical-align: top;\n",
       "    }\n",
       "\n",
       "    .dataframe thead th {\n",
       "        text-align: right;\n",
       "    }\n",
       "</style>\n",
       "<table border=\"1\" class=\"dataframe\">\n",
       "  <thead>\n",
       "    <tr style=\"text-align: right;\">\n",
       "      <th></th>\n",
       "      <th>Contract</th>\n",
       "      <th>Churn</th>\n",
       "    </tr>\n",
       "  </thead>\n",
       "  <tbody>\n",
       "    <tr>\n",
       "      <th>0</th>\n",
       "      <td>Month-to-month</td>\n",
       "      <td>42.709677</td>\n",
       "    </tr>\n",
       "    <tr>\n",
       "      <th>1</th>\n",
       "      <td>One year</td>\n",
       "      <td>11.277174</td>\n",
       "    </tr>\n",
       "    <tr>\n",
       "      <th>2</th>\n",
       "      <td>Two year</td>\n",
       "      <td>2.848665</td>\n",
       "    </tr>\n",
       "  </tbody>\n",
       "</table>\n",
       "</div>"
      ],
      "text/plain": [
       "         Contract      Churn\n",
       "0  Month-to-month  42.709677\n",
       "1        One year  11.277174\n",
       "2        Two year   2.848665"
      ]
     },
     "execution_count": 66,
     "metadata": {},
     "output_type": "execute_result"
    }
   ],
   "source": [
    "Contract_churn_percentage= data.groupby('Contract')['Churn'].mean()*100\n",
    "Contract_churn_percentage = Contract_churn_percentage.reset_index()\n",
    "Contract_churn_percentage"
   ]
  },
  {
   "cell_type": "code",
   "execution_count": 67,
   "id": "4a7ecdd1",
   "metadata": {
    "ExecuteTime": {
     "end_time": "2023-10-31T16:26:31.398957Z",
     "start_time": "2023-10-31T16:26:31.264564Z"
    }
   },
   "outputs": [
    {
     "data": {
      "text/plain": [
       "<Axes: xlabel='Contract', ylabel='Churn'>"
      ]
     },
     "execution_count": 67,
     "metadata": {},
     "output_type": "execute_result"
    },
    {
     "data": {
      "image/png": "[encoded data removed]",
      "text/plain": [
       "<Figure size 640x480 with 1 Axes>"
      ]
     },
     "metadata": {},
     "output_type": "display_data"
    }
   ],
   "source": [
    "sns.barplot(x= Contract_churn_percentage['Contract'], y= Contract_churn_percentage['Churn'],hue=Contract_churn_percentage['Contract'])"
   ]
  },
  {
   "cell_type": "markdown",
   "id": "6c2ffa39",
   "metadata": {},
   "source": [
    "### Paperless Billing Analysis"
   ]
  },
  {
   "cell_type": "code",
   "execution_count": 68,
   "id": "084fd312",
   "metadata": {
    "ExecuteTime": {
     "end_time": "2023-10-31T16:27:39.504189Z",
     "start_time": "2023-10-31T16:27:39.481484Z"
    }
   },
   "outputs": [
    {
     "data": {
      "text/html": [
       "<div>\n",
       "<style scoped>\n",
       "    .dataframe tbody tr th:only-of-type {\n",
       "        vertical-align: middle;\n",
       "    }\n",
       "\n",
       "    .dataframe tbody tr th {\n",
       "        vertical-align: top;\n",
       "    }\n",
       "\n",
       "    .dataframe thead th {\n",
       "        text-align: right;\n",
       "    }\n",
       "</style>\n",
       "<table border=\"1\" class=\"dataframe\">\n",
       "  <thead>\n",
       "    <tr style=\"text-align: right;\">\n",
       "      <th></th>\n",
       "      <th>PaperlessBilling</th>\n",
       "      <th>Churn</th>\n",
       "    </tr>\n",
       "  </thead>\n",
       "  <tbody>\n",
       "    <tr>\n",
       "      <th>0</th>\n",
       "      <td>No</td>\n",
       "      <td>16.375698</td>\n",
       "    </tr>\n",
       "    <tr>\n",
       "      <th>1</th>\n",
       "      <td>Yes</td>\n",
       "      <td>33.589251</td>\n",
       "    </tr>\n",
       "  </tbody>\n",
       "</table>\n",
       "</div>"
      ],
      "text/plain": [
       "  PaperlessBilling      Churn\n",
       "0               No  16.375698\n",
       "1              Yes  33.589251"
      ]
     },
     "execution_count": 68,
     "metadata": {},
     "output_type": "execute_result"
    }
   ],
   "source": [
    "PaperlessBilling_churn_percentage= data.groupby('PaperlessBilling')['Churn'].mean()*100\n",
    "PaperlessBilling_churn_percentage = PaperlessBilling_churn_percentage.reset_index()\n",
    "PaperlessBilling_churn_percentage"
   ]
  },
  {
   "cell_type": "code",
   "execution_count": 69,
   "id": "244cd596",
   "metadata": {
    "ExecuteTime": {
     "end_time": "2023-10-31T16:27:40.471453Z",
     "start_time": "2023-10-31T16:27:40.346997Z"
    }
   },
   "outputs": [
    {
     "data": {
      "text/plain": [
       "<Axes: xlabel='PaperlessBilling', ylabel='Churn'>"
      ]
     },
     "execution_count": 69,
     "metadata": {},
     "output_type": "execute_result"
    },
    {
     "data": {
      "image/png": "[encoded data removed]",
      "text/plain": [
       "<Figure size 640x480 with 1 Axes>"
      ]
     },
     "metadata": {},
     "output_type": "display_data"
    }
   ],
   "source": [
    "sns.barplot(x= PaperlessBilling_churn_percentage['PaperlessBilling'], y= PaperlessBilling_churn_percentage['Churn'],hue=PaperlessBilling_churn_percentage['PaperlessBilling'])"
   ]
  },
  {
   "cell_type": "markdown",
   "id": "586036d1",
   "metadata": {},
   "source": [
    "### Payment Method Analysis "
   ]
  },
  {
   "cell_type": "code",
   "execution_count": 70,
   "id": "f8dcecbf",
   "metadata": {
    "ExecuteTime": {
     "end_time": "2023-10-31T16:30:24.802600Z",
     "start_time": "2023-10-31T16:30:24.783033Z"
    }
   },
   "outputs": [
    {
     "data": {
      "text/html": [
       "<div>\n",
       "<style scoped>\n",
       "    .dataframe tbody tr th:only-of-type {\n",
       "        vertical-align: middle;\n",
       "    }\n",
       "\n",
       "    .dataframe tbody tr th {\n",
       "        vertical-align: top;\n",
       "    }\n",
       "\n",
       "    .dataframe thead th {\n",
       "        text-align: right;\n",
       "    }\n",
       "</style>\n",
       "<table border=\"1\" class=\"dataframe\">\n",
       "  <thead>\n",
       "    <tr style=\"text-align: right;\">\n",
       "      <th></th>\n",
       "      <th>PaymentMethod</th>\n",
       "      <th>Churn</th>\n",
       "    </tr>\n",
       "  </thead>\n",
       "  <tbody>\n",
       "    <tr>\n",
       "      <th>0</th>\n",
       "      <td>Bank transfer (automatic)</td>\n",
       "      <td>16.731518</td>\n",
       "    </tr>\n",
       "    <tr>\n",
       "      <th>1</th>\n",
       "      <td>Credit card (automatic)</td>\n",
       "      <td>15.253123</td>\n",
       "    </tr>\n",
       "    <tr>\n",
       "      <th>2</th>\n",
       "      <td>Electronic check</td>\n",
       "      <td>45.285412</td>\n",
       "    </tr>\n",
       "    <tr>\n",
       "      <th>3</th>\n",
       "      <td>Mailed check</td>\n",
       "      <td>19.201995</td>\n",
       "    </tr>\n",
       "  </tbody>\n",
       "</table>\n",
       "</div>"
      ],
      "text/plain": [
       "               PaymentMethod      Churn\n",
       "0  Bank transfer (automatic)  16.731518\n",
       "1    Credit card (automatic)  15.253123\n",
       "2           Electronic check  45.285412\n",
       "3               Mailed check  19.201995"
      ]
     },
     "execution_count": 70,
     "metadata": {},
     "output_type": "execute_result"
    }
   ],
   "source": [
    "PaymentMethod_churn_percentage= data.groupby('PaymentMethod')['Churn'].mean()*100\n",
    "PaymentMethod_churn_percentage = PaymentMethod_churn_percentage.reset_index()\n",
    "PaymentMethod_churn_percentage"
   ]
  },
  {
   "cell_type": "code",
   "execution_count": 75,
   "id": "499af250",
   "metadata": {
    "ExecuteTime": {
     "end_time": "2023-10-31T16:31:46.721265Z",
     "start_time": "2023-10-31T16:31:46.589992Z"
    }
   },
   "outputs": [
    {
     "data": {
      "text/plain": [
       "<Axes: xlabel='PaymentMethod', ylabel='Churn'>"
      ]
     },
     "execution_count": 75,
     "metadata": {},
     "output_type": "execute_result"
    },
    {
     "data": {
      "image/png": "[encoded data removed]",
      "text/plain": [
       "<Figure size 640x480 with 1 Axes>"
      ]
     },
     "metadata": {},
     "output_type": "display_data"
    }
   ],
   "source": [
    "sns.barplot(x= PaymentMethod_churn_percentage['PaymentMethod'], y= PaymentMethod_churn_percentage['Churn'],hue=PaymentMethod_churn_percentage['PaymentMethod'])"
   ]
  },
  {
   "cell_type": "code",
   "execution_count": 83,
   "id": "dcb4f730",
   "metadata": {
    "ExecuteTime": {
     "end_time": "2023-10-31T16:32:50.918624Z",
     "start_time": "2023-10-31T16:32:50.766558Z"
    }
   },
   "outputs": [
    {
     "data": {
      "image/png": "[encoded data removed]",
      "text/plain": [
       "<Figure size 800x600 with 1 Axes>"
      ]
     },
     "metadata": {},
     "output_type": "display_data"
    }
   ],
   "source": [
    "plt.figure(figsize=(8, 6))\n",
    "\n",
    "sns.barplot(x='PaymentMethod', y='Churn', hue='PaymentMethod', data=PaymentMethod_churn_percentage, palette='viridis', ci=None)\n",
    "plt.xlabel('Payment Method')\n",
    "plt.ylabel('Churn Percentage')\n",
    "plt.title('Churn Percentage by Payment Method')\n",
    "# plt.xticks(rotation=20)  \n",
    "\n",
    "plt.tight_layout()\n",
    "plt.show()\n"
   ]
  },
  {
   "cell_type": "markdown",
   "id": "d60eb0ac",
   "metadata": {},
   "source": [
    "### Monthly Charges Analysis"
   ]
  },
  {
   "cell_type": "code",
   "execution_count": 85,
   "id": "be8dd82a",
   "metadata": {
    "ExecuteTime": {
     "end_time": "2023-10-31T16:36:48.901158Z",
     "start_time": "2023-10-31T16:36:48.698820Z"
    }
   },
   "outputs": [
    {
     "data": {
      "image/png": "[encoded data removed]",
      "text/plain": [
       "<Figure size 640x480 with 1 Axes>"
      ]
     },
     "metadata": {},
     "output_type": "display_data"
    }
   ],
   "source": [
    "churned_customers = data[data['Churn'] == True]\n",
    "non_churned_customers = data[data['Churn'] == False]\n",
    "\n",
    "sns.histplot(data=non_churned_customers, x='MonthlyCharges', label='Non-Churned', color='blue', alpha=0.5)\n",
    "sns.histplot(data=churned_customers, x='MonthlyCharges', label='Churned', color='red' ,alpha=0.5)\n",
    "plt.xlabel('Monthly Charges')\n",
    "plt.ylabel('Count')\n",
    "plt.title('Histogram of Churned vs Non-Churned Customers by Monthly Charges')\n",
    "plt.legend()\n",
    "plt.show()"
   ]
  },
  {
   "cell_type": "code",
   "execution_count": 86,
   "id": "597f4916",
   "metadata": {
    "ExecuteTime": {
     "end_time": "2023-10-31T16:39:48.074435Z",
     "start_time": "2023-10-31T16:39:47.792841Z"
    }
   },
   "outputs": [
    {
     "data": {
      "image/png": "[encoded data removed]",
      "text/plain": [
       "<Figure size 640x480 with 1 Axes>"
      ]
     },
     "metadata": {},
     "output_type": "display_data"
    }
   ],
   "source": [
    "churned_customers = data[data['Churn'] == True]\n",
    "non_churned_customers = data[data['Churn'] == False]\n",
    "\n",
    "sns.histplot(data=non_churned_customers, x='TotalCharges', label='Non-Churned', color='blue', alpha=0.5)\n",
    "sns.histplot(data=churned_customers, x='TotalCharges', label='Churned', color='red' ,alpha=0.5)\n",
    "plt.xlabel('Total Charges')\n",
    "plt.ylabel('Count')\n",
    "plt.title('Histogram of Churned vs Non-Churned Customers by Total Charges')\n",
    "plt.legend()\n",
    "plt.show()"
   ]
  },
  {
   "cell_type": "markdown",
   "id": "a3961f67",
   "metadata": {},
   "source": [
    "# Correlation attempts"
   ]
  },
  {
   "cell_type": "code",
   "execution_count": 49,
   "id": "ce5a6853",
   "metadata": {
    "ExecuteTime": {
     "end_time": "2023-10-31T15:38:07.916396Z",
     "start_time": "2023-10-31T15:38:07.899549Z"
    }
   },
   "outputs": [],
   "source": [
    "correlation= data.corrwith(data['Churn'])"
   ]
  },
  {
   "cell_type": "code",
   "execution_count": 50,
   "id": "4301cdde",
   "metadata": {
    "ExecuteTime": {
     "end_time": "2023-10-31T15:38:09.402308Z",
     "start_time": "2023-10-31T15:38:09.387008Z"
    }
   },
   "outputs": [
    {
     "data": {
      "text/plain": [
       "tenure           -0.354049\n",
       "MonthlyCharges    0.192858\n",
       "TotalCharges     -0.199484\n",
       "Churn             1.000000\n",
       "dtype: float64"
      ]
     },
     "execution_count": 50,
     "metadata": {},
     "output_type": "execute_result"
    }
   ],
   "source": [
    "correlation"
   ]
  },
  {
   "cell_type": "code",
   "execution_count": 87,
   "id": "eb787057",
   "metadata": {
    "ExecuteTime": {
     "end_time": "2023-10-31T16:40:56.531742Z",
     "start_time": "2023-10-31T16:40:56.301607Z"
    }
   },
   "outputs": [
    {
     "data": {
      "text/plain": [
       "<Axes: >"
      ]
     },
     "execution_count": 87,
     "metadata": {},
     "output_type": "execute_result"
    },
    {
     "data": {
      "image/png": "[encoded data removed]",
      "text/plain": [
       "<Figure size 640x480 with 2 Axes>"
      ]
     },
     "metadata": {},
     "output_type": "display_data"
    }
   ],
   "source": [
    "sns.heatmap(data.corr())"
   ]
  },
  {
   "cell_type": "code",
   "execution_count": 51,
   "id": "ed20142b",
   "metadata": {
    "ExecuteTime": {
     "end_time": "2023-10-31T15:38:26.566576Z",
     "start_time": "2023-10-31T15:38:26.559126Z"
    }
   },
   "outputs": [],
   "source": [
    "data2= data.copy()"
   ]
  },
  {
   "cell_type": "code",
   "execution_count": 53,
   "id": "0a4d641b",
   "metadata": {
    "ExecuteTime": {
     "end_time": "2023-10-31T15:39:16.400502Z",
     "start_time": "2023-10-31T15:39:16.346522Z"
    }
   },
   "outputs": [
    {
     "data": {
      "text/html": [
       "<div>\n",
       "<style scoped>\n",
       "    .dataframe tbody tr th:only-of-type {\n",
       "        vertical-align: middle;\n",
       "    }\n",
       "\n",
       "    .dataframe tbody tr th {\n",
       "        vertical-align: top;\n",
       "    }\n",
       "\n",
       "    .dataframe thead th {\n",
       "        text-align: right;\n",
       "    }\n",
       "</style>\n",
       "<table border=\"1\" class=\"dataframe\">\n",
       "  <thead>\n",
       "    <tr style=\"text-align: right;\">\n",
       "      <th></th>\n",
       "      <th>gender</th>\n",
       "      <th>SeniorCitizen</th>\n",
       "      <th>Partner</th>\n",
       "      <th>Dependents</th>\n",
       "      <th>tenure</th>\n",
       "      <th>PhoneService</th>\n",
       "      <th>MultipleLines</th>\n",
       "      <th>InternetService</th>\n",
       "      <th>OnlineSecurity</th>\n",
       "      <th>OnlineBackup</th>\n",
       "      <th>...</th>\n",
       "      <th>TechSupport</th>\n",
       "      <th>StreamingTV</th>\n",
       "      <th>StreamingMovies</th>\n",
       "      <th>Contract</th>\n",
       "      <th>PaperlessBilling</th>\n",
       "      <th>PaymentMethod</th>\n",
       "      <th>MonthlyCharges</th>\n",
       "      <th>TotalCharges</th>\n",
       "      <th>Churn</th>\n",
       "      <th>tenure_group</th>\n",
       "    </tr>\n",
       "  </thead>\n",
       "  <tbody>\n",
       "    <tr>\n",
       "      <th>0</th>\n",
       "      <td>0</td>\n",
       "      <td>0</td>\n",
       "      <td>1</td>\n",
       "      <td>0</td>\n",
       "      <td>0</td>\n",
       "      <td>0</td>\n",
       "      <td>1</td>\n",
       "      <td>0</td>\n",
       "      <td>0</td>\n",
       "      <td>2</td>\n",
       "      <td>...</td>\n",
       "      <td>0</td>\n",
       "      <td>0</td>\n",
       "      <td>0</td>\n",
       "      <td>0</td>\n",
       "      <td>1</td>\n",
       "      <td>2</td>\n",
       "      <td>142</td>\n",
       "      <td>74</td>\n",
       "      <td>0</td>\n",
       "      <td>0</td>\n",
       "    </tr>\n",
       "    <tr>\n",
       "      <th>1</th>\n",
       "      <td>1</td>\n",
       "      <td>0</td>\n",
       "      <td>0</td>\n",
       "      <td>0</td>\n",
       "      <td>33</td>\n",
       "      <td>1</td>\n",
       "      <td>0</td>\n",
       "      <td>0</td>\n",
       "      <td>2</td>\n",
       "      <td>0</td>\n",
       "      <td>...</td>\n",
       "      <td>0</td>\n",
       "      <td>0</td>\n",
       "      <td>0</td>\n",
       "      <td>1</td>\n",
       "      <td>0</td>\n",
       "      <td>3</td>\n",
       "      <td>497</td>\n",
       "      <td>3624</td>\n",
       "      <td>0</td>\n",
       "      <td>6</td>\n",
       "    </tr>\n",
       "    <tr>\n",
       "      <th>2</th>\n",
       "      <td>1</td>\n",
       "      <td>0</td>\n",
       "      <td>0</td>\n",
       "      <td>0</td>\n",
       "      <td>1</td>\n",
       "      <td>1</td>\n",
       "      <td>0</td>\n",
       "      <td>0</td>\n",
       "      <td>2</td>\n",
       "      <td>2</td>\n",
       "      <td>...</td>\n",
       "      <td>0</td>\n",
       "      <td>0</td>\n",
       "      <td>0</td>\n",
       "      <td>0</td>\n",
       "      <td>1</td>\n",
       "      <td>3</td>\n",
       "      <td>435</td>\n",
       "      <td>536</td>\n",
       "      <td>1</td>\n",
       "      <td>0</td>\n",
       "    </tr>\n",
       "    <tr>\n",
       "      <th>3</th>\n",
       "      <td>1</td>\n",
       "      <td>0</td>\n",
       "      <td>0</td>\n",
       "      <td>0</td>\n",
       "      <td>44</td>\n",
       "      <td>0</td>\n",
       "      <td>1</td>\n",
       "      <td>0</td>\n",
       "      <td>2</td>\n",
       "      <td>0</td>\n",
       "      <td>...</td>\n",
       "      <td>2</td>\n",
       "      <td>0</td>\n",
       "      <td>0</td>\n",
       "      <td>1</td>\n",
       "      <td>0</td>\n",
       "      <td>0</td>\n",
       "      <td>266</td>\n",
       "      <td>3570</td>\n",
       "      <td>0</td>\n",
       "      <td>8</td>\n",
       "    </tr>\n",
       "    <tr>\n",
       "      <th>4</th>\n",
       "      <td>0</td>\n",
       "      <td>0</td>\n",
       "      <td>0</td>\n",
       "      <td>0</td>\n",
       "      <td>1</td>\n",
       "      <td>1</td>\n",
       "      <td>0</td>\n",
       "      <td>1</td>\n",
       "      <td>0</td>\n",
       "      <td>0</td>\n",
       "      <td>...</td>\n",
       "      <td>0</td>\n",
       "      <td>0</td>\n",
       "      <td>0</td>\n",
       "      <td>0</td>\n",
       "      <td>1</td>\n",
       "      <td>2</td>\n",
       "      <td>728</td>\n",
       "      <td>674</td>\n",
       "      <td>1</td>\n",
       "      <td>0</td>\n",
       "    </tr>\n",
       "    <tr>\n",
       "      <th>...</th>\n",
       "      <td>...</td>\n",
       "      <td>...</td>\n",
       "      <td>...</td>\n",
       "      <td>...</td>\n",
       "      <td>...</td>\n",
       "      <td>...</td>\n",
       "      <td>...</td>\n",
       "      <td>...</td>\n",
       "      <td>...</td>\n",
       "      <td>...</td>\n",
       "      <td>...</td>\n",
       "      <td>...</td>\n",
       "      <td>...</td>\n",
       "      <td>...</td>\n",
       "      <td>...</td>\n",
       "      <td>...</td>\n",
       "      <td>...</td>\n",
       "      <td>...</td>\n",
       "      <td>...</td>\n",
       "      <td>...</td>\n",
       "      <td>...</td>\n",
       "    </tr>\n",
       "    <tr>\n",
       "      <th>7027</th>\n",
       "      <td>1</td>\n",
       "      <td>0</td>\n",
       "      <td>1</td>\n",
       "      <td>1</td>\n",
       "      <td>23</td>\n",
       "      <td>1</td>\n",
       "      <td>2</td>\n",
       "      <td>0</td>\n",
       "      <td>2</td>\n",
       "      <td>0</td>\n",
       "      <td>...</td>\n",
       "      <td>2</td>\n",
       "      <td>2</td>\n",
       "      <td>2</td>\n",
       "      <td>1</td>\n",
       "      <td>1</td>\n",
       "      <td>3</td>\n",
       "      <td>990</td>\n",
       "      <td>3700</td>\n",
       "      <td>0</td>\n",
       "      <td>4</td>\n",
       "    </tr>\n",
       "    <tr>\n",
       "      <th>7028</th>\n",
       "      <td>0</td>\n",
       "      <td>0</td>\n",
       "      <td>1</td>\n",
       "      <td>1</td>\n",
       "      <td>71</td>\n",
       "      <td>1</td>\n",
       "      <td>2</td>\n",
       "      <td>1</td>\n",
       "      <td>0</td>\n",
       "      <td>2</td>\n",
       "      <td>...</td>\n",
       "      <td>0</td>\n",
       "      <td>2</td>\n",
       "      <td>2</td>\n",
       "      <td>1</td>\n",
       "      <td>1</td>\n",
       "      <td>1</td>\n",
       "      <td>1339</td>\n",
       "      <td>6304</td>\n",
       "      <td>0</td>\n",
       "      <td>14</td>\n",
       "    </tr>\n",
       "    <tr>\n",
       "      <th>7029</th>\n",
       "      <td>0</td>\n",
       "      <td>0</td>\n",
       "      <td>1</td>\n",
       "      <td>1</td>\n",
       "      <td>10</td>\n",
       "      <td>0</td>\n",
       "      <td>1</td>\n",
       "      <td>0</td>\n",
       "      <td>2</td>\n",
       "      <td>0</td>\n",
       "      <td>...</td>\n",
       "      <td>0</td>\n",
       "      <td>0</td>\n",
       "      <td>0</td>\n",
       "      <td>0</td>\n",
       "      <td>1</td>\n",
       "      <td>2</td>\n",
       "      <td>137</td>\n",
       "      <td>1265</td>\n",
       "      <td>0</td>\n",
       "      <td>2</td>\n",
       "    </tr>\n",
       "    <tr>\n",
       "      <th>7030</th>\n",
       "      <td>1</td>\n",
       "      <td>1</td>\n",
       "      <td>1</td>\n",
       "      <td>0</td>\n",
       "      <td>3</td>\n",
       "      <td>1</td>\n",
       "      <td>2</td>\n",
       "      <td>1</td>\n",
       "      <td>0</td>\n",
       "      <td>0</td>\n",
       "      <td>...</td>\n",
       "      <td>0</td>\n",
       "      <td>0</td>\n",
       "      <td>0</td>\n",
       "      <td>0</td>\n",
       "      <td>1</td>\n",
       "      <td>3</td>\n",
       "      <td>794</td>\n",
       "      <td>1157</td>\n",
       "      <td>1</td>\n",
       "      <td>0</td>\n",
       "    </tr>\n",
       "    <tr>\n",
       "      <th>7031</th>\n",
       "      <td>1</td>\n",
       "      <td>0</td>\n",
       "      <td>0</td>\n",
       "      <td>0</td>\n",
       "      <td>65</td>\n",
       "      <td>1</td>\n",
       "      <td>0</td>\n",
       "      <td>1</td>\n",
       "      <td>2</td>\n",
       "      <td>0</td>\n",
       "      <td>...</td>\n",
       "      <td>2</td>\n",
       "      <td>2</td>\n",
       "      <td>2</td>\n",
       "      <td>2</td>\n",
       "      <td>1</td>\n",
       "      <td>0</td>\n",
       "      <td>1387</td>\n",
       "      <td>6150</td>\n",
       "      <td>0</td>\n",
       "      <td>13</td>\n",
       "    </tr>\n",
       "  </tbody>\n",
       "</table>\n",
       "<p>7032 rows × 21 columns</p>\n",
       "</div>"
      ],
      "text/plain": [
       "      gender  SeniorCitizen  Partner  Dependents  tenure  PhoneService  \\\n",
       "0          0              0        1           0       0             0   \n",
       "1          1              0        0           0      33             1   \n",
       "2          1              0        0           0       1             1   \n",
       "3          1              0        0           0      44             0   \n",
       "4          0              0        0           0       1             1   \n",
       "...      ...            ...      ...         ...     ...           ...   \n",
       "7027       1              0        1           1      23             1   \n",
       "7028       0              0        1           1      71             1   \n",
       "7029       0              0        1           1      10             0   \n",
       "7030       1              1        1           0       3             1   \n",
       "7031       1              0        0           0      65             1   \n",
       "\n",
       "      MultipleLines  InternetService  OnlineSecurity  OnlineBackup  ...  \\\n",
       "0                 1                0               0             2  ...   \n",
       "1                 0                0               2             0  ...   \n",
       "2                 0                0               2             2  ...   \n",
       "3                 1                0               2             0  ...   \n",
       "4                 0                1               0             0  ...   \n",
       "...             ...              ...             ...           ...  ...   \n",
       "7027              2                0               2             0  ...   \n",
       "7028              2                1               0             2  ...   \n",
       "7029              1                0               2             0  ...   \n",
       "7030              2                1               0             0  ...   \n",
       "7031              0                1               2             0  ...   \n",
       "\n",
       "      TechSupport  StreamingTV  StreamingMovies  Contract  PaperlessBilling  \\\n",
       "0               0            0                0         0                 1   \n",
       "1               0            0                0         1                 0   \n",
       "2               0            0                0         0                 1   \n",
       "3               2            0                0         1                 0   \n",
       "4               0            0                0         0                 1   \n",
       "...           ...          ...              ...       ...               ...   \n",
       "7027            2            2                2         1                 1   \n",
       "7028            0            2                2         1                 1   \n",
       "7029            0            0                0         0                 1   \n",
       "7030            0            0                0         0                 1   \n",
       "7031            2            2                2         2                 1   \n",
       "\n",
       "      PaymentMethod  MonthlyCharges  TotalCharges  Churn  tenure_group  \n",
       "0                 2             142            74      0             0  \n",
       "1                 3             497          3624      0             6  \n",
       "2                 3             435           536      1             0  \n",
       "3                 0             266          3570      0             8  \n",
       "4                 2             728           674      1             0  \n",
       "...             ...             ...           ...    ...           ...  \n",
       "7027              3             990          3700      0             4  \n",
       "7028              1            1339          6304      0            14  \n",
       "7029              2             137          1265      0             2  \n",
       "7030              3             794          1157      1             0  \n",
       "7031              0            1387          6150      0            13  \n",
       "\n",
       "[7032 rows x 21 columns]"
      ]
     },
     "execution_count": 53,
     "metadata": {},
     "output_type": "execute_result"
    }
   ],
   "source": [
    "le = LabelEncoder()\n",
    "data2 = data2.apply(le.fit_transform)\n",
    "data2"
   ]
  },
  {
   "cell_type": "code",
   "execution_count": 54,
   "id": "f6154694",
   "metadata": {
    "ExecuteTime": {
     "end_time": "2023-10-31T15:39:38.189868Z",
     "start_time": "2023-10-31T15:39:38.163698Z"
    }
   },
   "outputs": [
    {
     "data": {
      "text/plain": [
       "gender             -0.008545\n",
       "SeniorCitizen       0.150541\n",
       "Partner            -0.149982\n",
       "Dependents         -0.163128\n",
       "tenure             -0.354049\n",
       "PhoneService        0.011691\n",
       "MultipleLines       0.038043\n",
       "InternetService    -0.047097\n",
       "OnlineSecurity     -0.289050\n",
       "OnlineBackup       -0.195290\n",
       "DeviceProtection   -0.177883\n",
       "TechSupport        -0.282232\n",
       "StreamingTV        -0.036303\n",
       "StreamingMovies    -0.038802\n",
       "Contract           -0.396150\n",
       "PaperlessBilling    0.191454\n",
       "PaymentMethod       0.107852\n",
       "MonthlyCharges      0.182989\n",
       "TotalCharges       -0.230843\n",
       "Churn               1.000000\n",
       "tenure_group       -0.351312\n",
       "dtype: float64"
      ]
     },
     "execution_count": 54,
     "metadata": {},
     "output_type": "execute_result"
    }
   ],
   "source": [
    "correlations = data2.corrwith(data2['Churn'])\n",
    "correlations"
   ]
  },
  {
   "cell_type": "code",
   "execution_count": 88,
   "id": "686c7aec",
   "metadata": {
    "ExecuteTime": {
     "end_time": "2023-10-31T16:41:21.709422Z",
     "start_time": "2023-10-31T16:41:21.253763Z"
    }
   },
   "outputs": [
    {
     "data": {
      "text/plain": [
       "<Axes: >"
      ]
     },
     "execution_count": 88,
     "metadata": {},
     "output_type": "execute_result"
    },
    {
     "data": {
      "image/png": "[encoded data removed]",
      "text/plain": [
       "<Figure size 640x480 with 2 Axes>"
      ]
     },
     "metadata": {},
     "output_type": "display_data"
    }
   ],
   "source": [
    "sns.heatmap(data2.corr())"
   ]
  },
  {
   "cell_type": "code",
   "execution_count": null,
   "id": "821492d6",
   "metadata": {},
   "outputs": [],
   "source": []
  }
 ],
 "metadata": {
  "kernelspec": {
   "display_name": "Python 3 (ipykernel)",
   "language": "python",
   "name": "python3"
  },
  "language_info": {
   "codemirror_mode": {
    "name": "ipython",
    "version": 3
   },
   "file_extension": ".py",
   "mimetype": "text/x-python",
   "name": "python",
   "nbconvert_exporter": "python",
   "pygments_lexer": "ipython3",
   "version": "3.8.18"
  }
 },
 "nbformat": 4,
 "nbformat_minor": 5
}
